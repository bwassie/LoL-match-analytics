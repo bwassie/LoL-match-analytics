{
 "cells": [
  {
   "cell_type": "markdown",
   "metadata": {},
   "source": [
    "# Analysis\n",
    "\n",
    "League of Legends is a competitive video game owned by Riot Games in which 10 players compete against each other in teams of 5. It is one of the most played and viewed video games in the world. Since 2011, Riot Games has hosted professional \"leagues\" in various regions around the world. The best teams from each region come to the Wold Championship where the best team wins the Summoner's Cup. Since its inception, the World Championship has been dominated by the Asian regions. If we look at the top 5 teams from the World Championships since 2014, we can see that Chinese and Korean teams usually dominate the field:"
   ]
  },
  {
   "cell_type": "code",
   "execution_count": 154,
   "metadata": {
    "collapsed": true
   },
   "outputs": [],
   "source": [
    "import sqlite3, os\n",
    "import pandas as pd\n",
    "from parsing_utils import parse_databases\n",
    "import pandas as pd\n",
    "import numpy as np\n",
    "import matplotlib\n",
    "import matplotlib.pyplot as plt\n",
    "plt.style.use(\"ggplot\")\n",
    "match,random = parser.get_dbs(db_dir)"
   ]
  },
  {
   "cell_type": "code",
   "execution_count": 195,
   "metadata": {},
   "outputs": [
    {
     "data": {
      "image/png": "[encoded data removed]",
      "text/plain": [
       "<matplotlib.figure.Figure at 0x24a5357d860>"
      ]
     },
     "metadata": {},
     "output_type": "display_data"
    }
   ],
   "source": [
    "regions = {'2014':['Korea','Korea','Korea','China','China'],'2015':['Korea','Korea','Europe','Europe','Korea'],\n",
    "          '2016':['Korea','Korea','Korea','Europe','China'],'2017':['Korea','Korea','China','China','Korea']}\n",
    "fig,ax = plt.subplots(1,4,figsize=(14,3), sharey=True)\n",
    "axes = ax.flatten()\n",
    "colors = {'Korea':'r','China':'b','Europe':'g'}\n",
    "n=0\n",
    "axes[0].set_ylabel(\"Number of teams\")\n",
    "for ii in ['2014','2015','2016','2017']:\n",
    "    query=\"\"\"SELECT name FROM international.'sqlite_master' WHERE type = 'table' \n",
    "    AND name LIKE '%championships%' AND name LIKE '%team%' AND name LIKE '%{}%';\"\"\".format(ii)\n",
    "    table = pd.read_sql_query(query,match).iloc[0,0]\n",
    "    query=\"\"\"SELECT * FROM international.'{}' ORDER BY W DESC, L ASC;\"\"\".format(table)\n",
    "    top5 = pd.read_sql_query(query,match).head(5)\n",
    "    top5[\"Region\"] = regions[ii]\n",
    "    cols = [colors[ii] for ii in top5[\"Region\"].value_counts().index.values]\n",
    "    top5[\"Region\"].value_counts().plot.bar(ax = axes[n], color = [cols])\n",
    "    axes[n].set_title(\"{}\".format(ii))\n",
    "    n+=1\n",
    "plt.suptitle(\"Regions of the Top 5 Worlds Championship teams\",y=1.1)\n",
    "legend = [plt.Line2D([0],[0],color='r',label='Korea'),plt.Line2D([0],[0],color='b',label='China')\n",
    "          ,plt.Line2D([0],[0],color='g',label='Europe')]\n",
    "plt.legend(handles=legend, loc='upper right',bbox_to_anchor=(1, 1.5))\n",
    "plt.tight_layout()\n",
    "plt.show()"
   ]
  },
  {
   "cell_type": "markdown",
   "metadata": {},
   "source": [
    "European teams have made it into the top 5 in 2015 and 2016 but Korean teams have been 3 out of the top 5 teams consistently. Since 2013, Korean teams have also won the World Championship. There has been much speculation about the Korean dominance in the professional League of Legends circuit. In particular, many people have wondered why North America never seems to make it into the top 5 despite having the largest recruiting pool and the most enthusiastic fan base. I will try to answer the question by analyzing matches from the LCK (Korean circuit) and NA(North American circuit). Specifically, I will be comparing LCK with NA matches. I unfortunately only have complete match data for the 2016 and 2017 seasons so I will be limited to the last couple of years but lets see what we can find! \n",
    "## Choosing teams\n",
    "In order to make a fair comparison between the two regions, I have to pick teams that I believe best represent these regions. I decided to use teams that made it to the Spring or Summer season playoffs in the respective years. If a team made it to either of the playoffs that year, that means they must have been better than at least half the teams in their region in that season since only half the teams that compete in a region move to the playoffs. Thus, I will be comparing the top 50% of Korean teams with the top 50% of North American teams in that same year. First let's get the 2017 matches for playoff teams in LCK and NA. I have custom scripts that parse my databases and give me the matches I want. The specific implementation can be found in `parsing_utils.py`. \n",
    "## Match team statistics\n",
    "\n",
    "First, lets look at the overall team stats for each match. This will give us team wide stats for each match rather than each player's stats:"
   ]
  },
  {
   "cell_type": "code",
   "execution_count": 178,
   "metadata": {},
   "outputs": [
    {
     "name": "stdout",
     "output_type": "stream",
     "text": [
      "NALCS    782\n",
      "Name: league, dtype: int64\n",
      "LCK    606\n",
      "Name: league, dtype: int64\n"
     ]
    }
   ],
   "source": [
    "def get_matches(db_dir, year, focus, season, aliases, leagues, joins, anti_joins):\n",
    "    all_matches = {}\n",
    "    parser = parse_databases()\n",
    "    for ii, jj in zip(aliases,leagues):\n",
    "        alias = ii\n",
    "        league = jj\n",
    "        name = \"{}_{}_{}_{}s\".format(year,alias,season,focus)\n",
    "        matches  = parser.parse_tables_get_matches(db_dir,alias,joins,anti_joins,name,year,league)\n",
    "        try:\n",
    "            all_matches[matches[\"league\"].value_counts().index.values[0]] = matches\n",
    "            print(matches[\"league\"].value_counts())\n",
    "        except:\n",
    "            print(\"League {} does not have any data for {}\".format(jj,season))\n",
    "    return all_matches\n",
    "\n",
    "def get_fig_axes(n=1,m=2,w=10,h=5,sharey=False):\n",
    "    fig,ax = plt.subplots(n,m,figsize=(w,h),sharey=sharey)\n",
    "    axes = ax.flatten()\n",
    "    return fig,axes\n",
    "\n",
    "db_dir =  \".//databases\"\n",
    "year = \"2017\"\n",
    "focus = \"team\"\n",
    "season = \"playoffs\"\n",
    "joins = [year,focus,season]\n",
    "anti_joins = [\"na-cs\",\"eu-cs\"]\n",
    "aliases = [\"na\",\"lck\"]\n",
    "leagues = [\"NALCS\",\"LCK\"]\n",
    "parser = parse_databases()\n",
    "all_matches = get_matches(db_dir, year, focus, season, aliases, leagues, joins, anti_joins)\n",
    "na = all_matches[\"NALCS\"]\n",
    "lck = all_matches[\"LCK\"]"
   ]
  },
  {
   "cell_type": "markdown",
   "metadata": {},
   "source": [
    "The teams that made it to any of the NA playoffs in 2017 played a total of 782 matches together whereas the LCK teams played 606 matches. The reason for this discrepancy becomes clear when we look at the number of teams:"
   ]
  },
  {
   "cell_type": "code",
   "execution_count": 179,
   "metadata": {
    "scrolled": false
   },
   "outputs": [
    {
     "data": {
      "image/png": "[encoded data removed]",
      "text/plain": [
       "<matplotlib.figure.Figure at 0x24a54674a58>"
      ]
     },
     "metadata": {},
     "output_type": "display_data"
    }
   ],
   "source": [
    "fig,axes = get_fig_axes(1,2,15,4)\n",
    "na[\"team\"].value_counts().plot.bar(ax=axes[0],color='b')\n",
    "axes[0].set_title(\"Matches played by 2017 NA playoff teams\")\n",
    "lck[\"team\"].value_counts().plot.bar(ax=axes[1],color='r')\n",
    "axes[1].set_title(\"Matches played by 2017 LCK playoff teams\")\n",
    "plt.show()"
   ]
  },
  {
   "cell_type": "markdown",
   "metadata": {},
   "source": [
    "There were only 6 teams from the LCK that made it to either the Spring or Summer playoffs compared with the 8 teams from NA. This seems to suggest that the matches in NA are more competitive than the matches in LCK. We can examine this more closely by looking at the [\"GSPD\"](https://oracleselixir.com/tag/gspd/) (Gold Spent Percentage Difference) statistic. \"GSPD\" measures if a match was a close one or if one team dominated. It measures the difference how much gold the winning team spent verses the losing team. If the difference is large, then it means the winning team had a large lead. If it is small or negative, then the losing team was keeping up in gold with the winning team. Lets compare the \"GSPD\" for NA vs LCK:"
   ]
  },
  {
   "cell_type": "code",
   "execution_count": 194,
   "metadata": {},
   "outputs": [
    {
     "data": {
      "image/png": "[encoded data removed]",
      "text/plain": [
       "<matplotlib.figure.Figure at 0x24a55541828>"
      ]
     },
     "metadata": {},
     "output_type": "display_data"
    }
   ],
   "source": [
    "from scipy.stats import ttest_ind\n",
    "from scipy.stats import ks_2samp\n",
    "T_stat,p_val = ttest_ind(na[\"gspd\"].values,lck[\"gspd\"].values)\n",
    "K_stat,p_val_k = ks_2samp(na[\"gspd\"].values,lck[\"gspd\"].values)\n",
    "fig,axes = get_fig_axes(1,2,15,4,sharey=True)\n",
    "na.boxplot('gspd',ax=axes[0])\n",
    "axes[0].set_title(\"NA GSPD\\nMean: {:10.3f}\".format(na[\"gspd\"].mean()))\n",
    "lck.boxplot('gspd',ax=axes[1])\n",
    "axes[1].set_title(\"LCK GSPD\\nMean: {:10.3f}\".format(lck[\"gspd\"].mean()))\n",
    "plt.suptitle(\"T-test p-val: {:10.4f}\\nKS-test p-val: {:10.4f}\".format(p_val,p_val_k))\n",
    "plt.show()"
   ]
  },
  {
   "cell_type": "markdown",
   "metadata": {},
   "source": [
    "Looking at the means and distributions, LCK in general had a higher GSPD than NA. I performed a KS test to measure if the two distributions were significantly different and a T-test for equality of the means. Although the T-test p-value is too high to say the two means are different, we can confidently say that the two distributions are different."
   ]
  },
  {
   "cell_type": "code",
   "execution_count": 3,
   "metadata": {},
   "outputs": [
    {
     "data": {
      "text/html": [
       "<div>\n",
       "<style>\n",
       "    .dataframe thead tr:only-child th {\n",
       "        text-align: right;\n",
       "    }\n",
       "\n",
       "    .dataframe thead th {\n",
       "        text-align: left;\n",
       "    }\n",
       "\n",
       "    .dataframe tbody tr th {\n",
       "        vertical-align: top;\n",
       "    }\n",
       "</style>\n",
       "<table border=\"1\" class=\"dataframe\">\n",
       "  <thead>\n",
       "    <tr style=\"text-align: right;\">\n",
       "      <th></th>\n",
       "      <th>team</th>\n",
       "      <th>league</th>\n",
       "      <th>split</th>\n",
       "      <th>side</th>\n",
       "      <th>gdat10</th>\n",
       "      <th>gdat15</th>\n",
       "      <th>xpdat10</th>\n",
       "      <th>csdat10</th>\n",
       "      <th>fb</th>\n",
       "      <th>fbtime</th>\n",
       "      <th>fbassist</th>\n",
       "      <th>ft</th>\n",
       "      <th>fttime</th>\n",
       "      <th>firstmidouter</th>\n",
       "      <th>result</th>\n",
       "    </tr>\n",
       "  </thead>\n",
       "  <tbody>\n",
       "  </tbody>\n",
       "</table>\n",
       "</div>"
      ],
      "text/plain": [
       "Empty DataFrame\n",
       "Columns: [team, league, split, side, gdat10, gdat15, xpdat10, csdat10, fb, fbtime, fbassist, ft, fttime, firstmidouter, result]\n",
       "Index: []"
      ]
     },
     "metadata": {},
     "output_type": "display_data"
    }
   ],
   "source": [
    "display(matches.loc[:,[\"team\",\"league\",\"split\",\"side\",\"gdat10\",\n",
    "                                   \"gdat15\",\"xpdat10\",\"csdat10\",\"fb\",\"fbtime\",\n",
    "                                   \"fbassist\",\"ft\",\"fttime\",\"firstmidouter\",\"result\"]].head())"
   ]
  },
  {
   "cell_type": "markdown",
   "metadata": {},
   "source": [
    "To do:\n",
    "\n",
    "1. How what are the variables that contribute to winning in each league  \n",
    "    a. Look at early game and late/whole game features\n",
    "    b. Look at contributions from different roles\n",
    "2. What are the mean features that distinguish each region from another?  \n",
    "    a. Look at teams as a whole vs individual players/roles\n",
    "3. Cluster roles/regions?\n",
    "\n",
    "Data Engineering:\n",
    "\n",
    "Give me top x and bottom x teams from league from year from season"
   ]
  },
  {
   "cell_type": "code",
   "execution_count": 32,
   "metadata": {},
   "outputs": [
    {
     "data": {
      "text/plain": [
       "LCK       2025\n",
       "NALCS     1535\n",
       "LPL       1465\n",
       "LMS       1460\n",
       "EULCS     1270\n",
       "WC         670\n",
       "MSI        410\n",
       "RRNAEU     210\n",
       "RRAsia     190\n",
       "NAPR        65\n",
       "Name: league, dtype: int64"
      ]
     },
     "execution_count": 32,
     "metadata": {},
     "output_type": "execute_result"
    }
   ],
   "source": [
    "worlds_teams[\"league\"].value_counts()"
   ]
  },
  {
   "cell_type": "code",
   "execution_count": 76,
   "metadata": {},
   "outputs": [
    {
     "data": {
      "text/html": [
       "<div>\n",
       "<style>\n",
       "    .dataframe thead tr:only-child th {\n",
       "        text-align: right;\n",
       "    }\n",
       "\n",
       "    .dataframe thead th {\n",
       "        text-align: left;\n",
       "    }\n",
       "\n",
       "    .dataframe tbody tr th {\n",
       "        vertical-align: top;\n",
       "    }\n",
       "</style>\n",
       "<table border=\"1\" class=\"dataframe\">\n",
       "  <thead>\n",
       "    <tr style=\"text-align: right;\">\n",
       "      <th></th>\n",
       "      <th>index</th>\n",
       "      <th>Variable</th>\n",
       "      <th>Description</th>\n",
       "    </tr>\n",
       "  </thead>\n",
       "  <tbody>\n",
       "    <tr>\n",
       "      <th>0</th>\n",
       "      <td>0</td>\n",
       "      <td>GP</td>\n",
       "      <td>Games Played</td>\n",
       "    </tr>\n",
       "    <tr>\n",
       "      <th>1</th>\n",
       "      <td>1</td>\n",
       "      <td>W</td>\n",
       "      <td>Wins</td>\n",
       "    </tr>\n",
       "    <tr>\n",
       "      <th>2</th>\n",
       "      <td>2</td>\n",
       "      <td>L</td>\n",
       "      <td>Losses</td>\n",
       "    </tr>\n",
       "    <tr>\n",
       "      <th>3</th>\n",
       "      <td>3</td>\n",
       "      <td>AGT</td>\n",
       "      <td>Average Game Time (sometimes also called “G Len”)</td>\n",
       "    </tr>\n",
       "    <tr>\n",
       "      <th>4</th>\n",
       "      <td>4</td>\n",
       "      <td>P%</td>\n",
       "      <td>Percentage of games champion was picked in the...</td>\n",
       "    </tr>\n",
       "    <tr>\n",
       "      <th>5</th>\n",
       "      <td>5</td>\n",
       "      <td>B%</td>\n",
       "      <td>Percentage of games in which the champion was ...</td>\n",
       "    </tr>\n",
       "    <tr>\n",
       "      <th>6</th>\n",
       "      <td>6</td>\n",
       "      <td>K</td>\n",
       "      <td>Total Kills</td>\n",
       "    </tr>\n",
       "    <tr>\n",
       "      <th>7</th>\n",
       "      <td>7</td>\n",
       "      <td>D</td>\n",
       "      <td>Total Deaths</td>\n",
       "    </tr>\n",
       "    <tr>\n",
       "      <th>8</th>\n",
       "      <td>8</td>\n",
       "      <td>A</td>\n",
       "      <td>Total Assists</td>\n",
       "    </tr>\n",
       "    <tr>\n",
       "      <th>9</th>\n",
       "      <td>9</td>\n",
       "      <td>KDA</td>\n",
       "      <td>Total Kill/Death/Assist Ratio</td>\n",
       "    </tr>\n",
       "  </tbody>\n",
       "</table>\n",
       "</div>"
      ],
      "text/plain": [
       "   index Variable                                        Description\n",
       "0      0       GP                                       Games Played\n",
       "1      1        W                                               Wins\n",
       "2      2        L                                             Losses\n",
       "3      3      AGT  Average Game Time (sometimes also called “G Len”)\n",
       "4      4       P%  Percentage of games champion was picked in the...\n",
       "5      5       B%  Percentage of games in which the champion was ...\n",
       "6      6        K                                        Total Kills\n",
       "7      7        D                                       Total Deaths\n",
       "8      8        A                                      Total Assists\n",
       "9      9      KDA                      Total Kill/Death/Assist Ratio"
      ]
     },
     "metadata": {},
     "output_type": "display_data"
    }
   ],
   "source": [
    "query = \"\"\"SELECT * FROM data_dictionary.'player_team_stats_dictionary';\"\"\"\n",
    "df = pd.read_sql_query(query,match)\n",
    "display(df.head(10))"
   ]
  },
  {
   "cell_type": "code",
   "execution_count": 232,
   "metadata": {},
   "outputs": [],
   "source": [
    "from IPython.display import display_html\n",
    "def display_side_by_side(*args):\n",
    "    html_str=''\n",
    "    for df in args:\n",
    "        if isinstance(df,pd.Series):\n",
    "            df = df.to_frame()\n",
    "        html_str+=df.to_html()\n",
    "    display_html(html_str.replace('table','table style=\"display:inline\"'),raw=True)"
   ]
  },
  {
   "cell_type": "code",
   "execution_count": 233,
   "metadata": {},
   "outputs": [
    {
     "data": {
      "text/html": [
       "<table style=\"display:inline\" border=\"1\" class=\"dataframe\">\n",
       "  <thead>\n",
       "    <tr style=\"text-align: right;\">\n",
       "      <th></th>\n",
       "      <th>2017 avg gspd</th>\n",
       "    </tr>\n",
       "    <tr>\n",
       "      <th>NA teams</th>\n",
       "      <th></th>\n",
       "    </tr>\n",
       "  </thead>\n",
       "  <tbody>\n",
       "    <tr>\n",
       "      <th>Team SoloMid</th>\n",
       "      <td>0.043496</td>\n",
       "    </tr>\n",
       "    <tr>\n",
       "      <th>Cloud9</th>\n",
       "      <td>0.029514</td>\n",
       "    </tr>\n",
       "    <tr>\n",
       "      <th>Immortals</th>\n",
       "      <td>0.043137</td>\n",
       "    </tr>\n",
       "    <tr>\n",
       "      <th>Counter Logic Gaming</th>\n",
       "      <td>-0.011401</td>\n",
       "    </tr>\n",
       "    <tr>\n",
       "      <th>Dignitas</th>\n",
       "      <td>-0.008613</td>\n",
       "    </tr>\n",
       "    <tr>\n",
       "      <th>Flyquest</th>\n",
       "      <td>-0.013037</td>\n",
       "    </tr>\n",
       "    <tr>\n",
       "      <th>Phoenix1</th>\n",
       "      <td>-0.007144</td>\n",
       "    </tr>\n",
       "    <tr>\n",
       "      <th>EnVyUs</th>\n",
       "      <td>0.019668</td>\n",
       "    </tr>\n",
       "  </tbody>\n",
       "</table style=\"display:inline\"><table style=\"display:inline\" border=\"1\" class=\"dataframe\">\n",
       "  <thead>\n",
       "    <tr style=\"text-align: right;\">\n",
       "      <th></th>\n",
       "      <th>2017 avg gspd</th>\n",
       "    </tr>\n",
       "    <tr>\n",
       "      <th>LCK teams</th>\n",
       "      <th></th>\n",
       "    </tr>\n",
       "  </thead>\n",
       "  <tbody>\n",
       "    <tr>\n",
       "      <th>SK Telecom T1</th>\n",
       "      <td>0.041930</td>\n",
       "    </tr>\n",
       "    <tr>\n",
       "      <th>Samsung Galaxy</th>\n",
       "      <td>0.033431</td>\n",
       "    </tr>\n",
       "    <tr>\n",
       "      <th>KT Rolster</th>\n",
       "      <td>0.054766</td>\n",
       "    </tr>\n",
       "    <tr>\n",
       "      <th>Longzhu Gaming</th>\n",
       "      <td>0.049905</td>\n",
       "    </tr>\n",
       "    <tr>\n",
       "      <th>Afreeca Freecs</th>\n",
       "      <td>0.018700</td>\n",
       "    </tr>\n",
       "    <tr>\n",
       "      <th>MVP</th>\n",
       "      <td>-0.051578</td>\n",
       "    </tr>\n",
       "  </tbody>\n",
       "</table style=\"display:inline\">"
      ]
     },
     "metadata": {},
     "output_type": "display_data"
    }
   ],
   "source": [
    "s1 = na.groupby(\"team\").mean().sort_values(\"result\",ascending=False)[\"gspd\"]\n",
    "s1 = s1.rename_axis(\"NA teams\",axis=0).rename(\"2017 avg gspd\")\n",
    "s2 = lck.groupby(\"team\").mean().sort_values(\"result\",ascending=False)[\"gspd\"]\n",
    "s2 = s2.rename_axis(\"LCK teams\",axis=0).rename(\"2017 avg gspd\")\n",
    "display_side_by_side(s1,s2)"
   ]
  },
  {
   "cell_type": "code",
   "execution_count": 230,
   "metadata": {},
   "outputs": [
    {
     "name": "stdout",
     "output_type": "stream",
     "text": [
      "NA teams\n",
      "Team SoloMid            0.043496\n",
      "Cloud9                  0.029514\n",
      "Immortals               0.043137\n",
      "Counter Logic Gaming   -0.011401\n",
      "Dignitas               -0.008613\n",
      "Flyquest               -0.013037\n",
      "Phoenix1               -0.007144\n",
      "EnVyUs                  0.019668\n",
      "Name: gspd, dtype: float64\n"
     ]
    }
   ],
   "source": [
    "print(s1)"
   ]
  },
  {
   "cell_type": "code",
   "execution_count": null,
   "metadata": {
    "collapsed": true
   },
   "outputs": [],
   "source": []
  }
 ],
 "metadata": {
  "kernelspec": {
   "display_name": "Python 3",
   "language": "python",
   "name": "python3"
  },
  "language_info": {
   "codemirror_mode": {
    "name": "ipython",
    "version": 3
   },
   "file_extension": ".py",
   "mimetype": "text/x-python",
   "name": "python",
   "nbconvert_exporter": "python",
   "pygments_lexer": "ipython3",
   "version": "3.6.3"
  }
 },
 "nbformat": 4,
 "nbformat_minor": 2
}
