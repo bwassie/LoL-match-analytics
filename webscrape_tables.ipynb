{
 "cells": [
  {
   "cell_type": "markdown",
   "metadata": {},
   "source": [
    "# Scraping Data\n",
    "\n",
    "This notebook will cover the web-scraping and data collection part of the project. I am getting the data from [Tim Sevenhuysen's](https://twitter.com/TimSevenhuysen) website: [Oracle's Elixir](https://oracleselixir.com/). I will scrape and store all player and match statistics from his website into sqlite3 databases. \n",
    "\n",
    "### League of Legends team and player statistics\n",
    "Since most of the data is in HTML tables, I will first use a parser that will make it easier to get these tables. I have copied some code from [Scott Rome](http://srome.github.io/Parsing-HTML-Tables-in-Python-with-BeautifulSoup-and-pandas/) who has made an excellent and robust script to extract tables from HTML pages. Basically, we want the team and player statistics for each of the region in their own databses. This is easy to do since the links are all formatted nicely: for example, all European teams and player stats will all contain \"/eu/\" in the url. I have a list of such patterns for each region and stored them in the array `to_scrape`. I will create an HTML parser, give it the url and a pattern, and it will get all the tables matching that pattern and put them all in a sqlite3 database. Simple!"
   ]
  },
  {
   "cell_type": "code",
   "execution_count": 9,
   "metadata": {
    "collapsed": true
   },
   "outputs": [],
   "source": [
    "import sys\n",
    "sys.path.append(\".//utils//\")\n",
    "import sqlite3, os\n",
    "import pandas as pd\n",
    "from scrape_utils import HTMLTableParser\n",
    "import os"
   ]
  },
  {
   "cell_type": "code",
   "execution_count": 2,
   "metadata": {},
   "outputs": [
    {
     "name": "stdout",
     "output_type": "stream",
     "text": [
      "Creating database na.db and inserting tables...\n"
     ]
    },
    {
     "name": "stderr",
     "output_type": "stream",
     "text": [
      "C:\\Anaconda3\\lib\\site-packages\\pandas\\core\\generic.py:1362: UserWarning: The spaces in these column names will not be changed. In pandas versions < 0.14, spaces were converted to underscores.\n",
      "  chunksize=chunksize, dtype=dtype)\n"
     ]
    },
    {
     "name": "stdout",
     "output_type": "stream",
     "text": [
      "Inserted 213 tables into na.db\n",
      "Creating database eu.db and inserting tables...\n",
      "Inserted 99 tables into eu.db\n",
      "Creating database lck.db and inserting tables...\n",
      "Inserted 71 tables into lck.db\n",
      "Creating database lms.db and inserting tables...\n",
      "Inserted 47 tables into lms.db\n",
      "Creating database lpl.db and inserting tables...\n",
      "Inserted 30 tables into lpl.db\n",
      "Creating database international.db and inserting tables...\n",
      "Inserted 67 tables into international.db\n",
      "Creating database cblol.db and inserting tables...\n",
      "Inserted 30 tables into cblol.db\n",
      "Creating database tcl.db and inserting tables...\n",
      "Inserted 15 tables into tcl.db\n"
     ]
    }
   ],
   "source": [
    "url = \"https://oracleselixir.com/statistics/player-stats/\"\n",
    "to_scrape = [\"na\",\"eu\",\"lck\",\"lms\",\"lpl\",\"international\",\"cblol\",\"tcl\"]\n",
    "parser = HTMLTableParser()\n",
    "directory = \".\\\\databases\"\n",
    "os.chdir(directory)\n",
    "for ii in to_scrape:\n",
    "    db = ii+\".db\"\n",
    "    parser.scrape_data(url,ii,db)"
   ]
  },
  {
   "cell_type": "markdown",
   "metadata": {},
   "source": [
    "Lets see what the tables are named and what one of these tables looks like:"
   ]
  },
  {
   "cell_type": "code",
   "execution_count": 3,
   "metadata": {},
   "outputs": [
    {
     "data": {
      "text/html": [
       "<div>\n",
       "<style>\n",
       "    .dataframe thead tr:only-child th {\n",
       "        text-align: right;\n",
       "    }\n",
       "\n",
       "    .dataframe thead th {\n",
       "        text-align: left;\n",
       "    }\n",
       "\n",
       "    .dataframe tbody tr th {\n",
       "        vertical-align: top;\n",
       "    }\n",
       "</style>\n",
       "<table border=\"1\" class=\"dataframe\">\n",
       "  <thead>\n",
       "    <tr style=\"text-align: right;\">\n",
       "      <th></th>\n",
       "      <th>type</th>\n",
       "      <th>name</th>\n",
       "      <th>tbl_name</th>\n",
       "      <th>rootpage</th>\n",
       "      <th>sql</th>\n",
       "    </tr>\n",
       "  </thead>\n",
       "  <tbody>\n",
       "    <tr>\n",
       "      <th>0</th>\n",
       "      <td>table</td>\n",
       "      <td>na-lcs-2018-spring-playoffs-team-statistics</td>\n",
       "      <td>na-lcs-2018-spring-playoffs-team-statistics</td>\n",
       "      <td>2</td>\n",
       "      <td>CREATE TABLE \"na-lcs-2018-spring-playoffs-team...</td>\n",
       "    </tr>\n",
       "    <tr>\n",
       "      <th>1</th>\n",
       "      <td>table</td>\n",
       "      <td>na-lcs-2018-spring-regular-season-team-statistics</td>\n",
       "      <td>na-lcs-2018-spring-regular-season-team-statistics</td>\n",
       "      <td>4</td>\n",
       "      <td>CREATE TABLE \"na-lcs-2018-spring-regular-seaso...</td>\n",
       "    </tr>\n",
       "    <tr>\n",
       "      <th>2</th>\n",
       "      <td>table</td>\n",
       "      <td>na-lcs-2017-regional-qualifier-team-statistics</td>\n",
       "      <td>na-lcs-2017-regional-qualifier-team-statistics</td>\n",
       "      <td>6</td>\n",
       "      <td>CREATE TABLE \"na-lcs-2017-regional-qualifier-t...</td>\n",
       "    </tr>\n",
       "    <tr>\n",
       "      <th>3</th>\n",
       "      <td>table</td>\n",
       "      <td>na-2017-summer-playoffs-team-statistics</td>\n",
       "      <td>na-2017-summer-playoffs-team-statistics</td>\n",
       "      <td>8</td>\n",
       "      <td>CREATE TABLE \"na-2017-summer-playoffs-team-sta...</td>\n",
       "    </tr>\n",
       "    <tr>\n",
       "      <th>4</th>\n",
       "      <td>table</td>\n",
       "      <td>na-2018-spring-promotion-team-statistics</td>\n",
       "      <td>na-2018-spring-promotion-team-statistics</td>\n",
       "      <td>10</td>\n",
       "      <td>CREATE TABLE \"na-2018-spring-promotion-team-st...</td>\n",
       "    </tr>\n",
       "  </tbody>\n",
       "</table>\n",
       "</div>"
      ],
      "text/plain": [
       "    type                                               name  \\\n",
       "0  table        na-lcs-2018-spring-playoffs-team-statistics   \n",
       "1  table  na-lcs-2018-spring-regular-season-team-statistics   \n",
       "2  table     na-lcs-2017-regional-qualifier-team-statistics   \n",
       "3  table            na-2017-summer-playoffs-team-statistics   \n",
       "4  table           na-2018-spring-promotion-team-statistics   \n",
       "\n",
       "                                            tbl_name  rootpage  \\\n",
       "0        na-lcs-2018-spring-playoffs-team-statistics         2   \n",
       "1  na-lcs-2018-spring-regular-season-team-statistics         4   \n",
       "2     na-lcs-2017-regional-qualifier-team-statistics         6   \n",
       "3            na-2017-summer-playoffs-team-statistics         8   \n",
       "4           na-2018-spring-promotion-team-statistics        10   \n",
       "\n",
       "                                                 sql  \n",
       "0  CREATE TABLE \"na-lcs-2018-spring-playoffs-team...  \n",
       "1  CREATE TABLE \"na-lcs-2018-spring-regular-seaso...  \n",
       "2  CREATE TABLE \"na-lcs-2017-regional-qualifier-t...  \n",
       "3  CREATE TABLE \"na-2017-summer-playoffs-team-sta...  \n",
       "4  CREATE TABLE \"na-2018-spring-promotion-team-st...  "
      ]
     },
     "metadata": {},
     "output_type": "display_data"
    },
    {
     "data": {
      "text/html": [
       "<div>\n",
       "<style>\n",
       "    .dataframe thead tr:only-child th {\n",
       "        text-align: right;\n",
       "    }\n",
       "\n",
       "    .dataframe thead th {\n",
       "        text-align: left;\n",
       "    }\n",
       "\n",
       "    .dataframe tbody tr th {\n",
       "        vertical-align: top;\n",
       "    }\n",
       "</style>\n",
       "<table border=\"1\" class=\"dataframe\">\n",
       "  <thead>\n",
       "    <tr style=\"text-align: right;\">\n",
       "      <th></th>\n",
       "      <th>index</th>\n",
       "      <th>Team</th>\n",
       "      <th>GP</th>\n",
       "      <th>W</th>\n",
       "      <th>L</th>\n",
       "      <th>AGT</th>\n",
       "      <th>K</th>\n",
       "      <th>D</th>\n",
       "      <th>K:D</th>\n",
       "      <th>CKPM</th>\n",
       "      <th>...</th>\n",
       "      <th>DRG%</th>\n",
       "      <th>ELD%</th>\n",
       "      <th>FBN%</th>\n",
       "      <th>BN%</th>\n",
       "      <th>LNE%</th>\n",
       "      <th>JNG%</th>\n",
       "      <th>WPM</th>\n",
       "      <th>WCPM</th>\n",
       "      <th>VWC</th>\n",
       "      <th>IWC</th>\n",
       "    </tr>\n",
       "  </thead>\n",
       "  <tbody>\n",
       "    <tr>\n",
       "      <th>0</th>\n",
       "      <td>0</td>\n",
       "      <td>100 Thieves</td>\n",
       "      <td>8.0</td>\n",
       "      <td>3.0</td>\n",
       "      <td>5.0</td>\n",
       "      <td>37.0</td>\n",
       "      <td>61.0</td>\n",
       "      <td>79.0</td>\n",
       "      <td>0.77</td>\n",
       "      <td>0.47</td>\n",
       "      <td>...</td>\n",
       "      <td>39%</td>\n",
       "      <td>50%</td>\n",
       "      <td>25%</td>\n",
       "      <td>36%</td>\n",
       "      <td>50.4%</td>\n",
       "      <td>48.9%</td>\n",
       "      <td>3.48</td>\n",
       "      <td>1.65</td>\n",
       "      <td>61.1%</td>\n",
       "      <td>21.5%</td>\n",
       "    </tr>\n",
       "    <tr>\n",
       "      <th>1</th>\n",
       "      <td>1</td>\n",
       "      <td>Cloud9</td>\n",
       "      <td>3.0</td>\n",
       "      <td>0.0</td>\n",
       "      <td>3.0</td>\n",
       "      <td>38.8</td>\n",
       "      <td>22.0</td>\n",
       "      <td>30.0</td>\n",
       "      <td>0.73</td>\n",
       "      <td>0.45</td>\n",
       "      <td>...</td>\n",
       "      <td>42%</td>\n",
       "      <td>50%</td>\n",
       "      <td>33%</td>\n",
       "      <td>20%</td>\n",
       "      <td>50.7%</td>\n",
       "      <td>48.1%</td>\n",
       "      <td>2.98</td>\n",
       "      <td>1.83</td>\n",
       "      <td>60.4%</td>\n",
       "      <td>25.0%</td>\n",
       "    </tr>\n",
       "    <tr>\n",
       "      <th>2</th>\n",
       "      <td>2</td>\n",
       "      <td>Clutch Gaming</td>\n",
       "      <td>12.0</td>\n",
       "      <td>5.0</td>\n",
       "      <td>7.0</td>\n",
       "      <td>35.0</td>\n",
       "      <td>104.0</td>\n",
       "      <td>113.0</td>\n",
       "      <td>0.92</td>\n",
       "      <td>0.52</td>\n",
       "      <td>...</td>\n",
       "      <td>40%</td>\n",
       "      <td>50%</td>\n",
       "      <td>55%</td>\n",
       "      <td>47%</td>\n",
       "      <td>48.9%</td>\n",
       "      <td>45.6%</td>\n",
       "      <td>4.29</td>\n",
       "      <td>1.39</td>\n",
       "      <td>61.8%</td>\n",
       "      <td>20.5%</td>\n",
       "    </tr>\n",
       "    <tr>\n",
       "      <th>3</th>\n",
       "      <td>3</td>\n",
       "      <td>Echo Fox</td>\n",
       "      <td>7.0</td>\n",
       "      <td>4.0</td>\n",
       "      <td>3.0</td>\n",
       "      <td>27.9</td>\n",
       "      <td>72.0</td>\n",
       "      <td>84.0</td>\n",
       "      <td>0.86</td>\n",
       "      <td>0.80</td>\n",
       "      <td>...</td>\n",
       "      <td>60%</td>\n",
       "      <td>-</td>\n",
       "      <td>50%</td>\n",
       "      <td>50%</td>\n",
       "      <td>50.1%</td>\n",
       "      <td>59.9%</td>\n",
       "      <td>3.57</td>\n",
       "      <td>1.05</td>\n",
       "      <td>54.5%</td>\n",
       "      <td>16.8%</td>\n",
       "    </tr>\n",
       "    <tr>\n",
       "      <th>4</th>\n",
       "      <td>4</td>\n",
       "      <td>Team Liquid</td>\n",
       "      <td>10.0</td>\n",
       "      <td>9.0</td>\n",
       "      <td>1.0</td>\n",
       "      <td>31.9</td>\n",
       "      <td>138.0</td>\n",
       "      <td>65.0</td>\n",
       "      <td>2.12</td>\n",
       "      <td>0.64</td>\n",
       "      <td>...</td>\n",
       "      <td>74%</td>\n",
       "      <td>50%</td>\n",
       "      <td>80%</td>\n",
       "      <td>79%</td>\n",
       "      <td>50.5%</td>\n",
       "      <td>50.0%</td>\n",
       "      <td>3.95</td>\n",
       "      <td>1.32</td>\n",
       "      <td>66.8%</td>\n",
       "      <td>23.8%</td>\n",
       "    </tr>\n",
       "  </tbody>\n",
       "</table>\n",
       "<p>5 rows × 30 columns</p>\n",
       "</div>"
      ],
      "text/plain": [
       "   index           Team    GP    W    L   AGT      K      D   K:D  CKPM  \\\n",
       "0      0    100 Thieves   8.0  3.0  5.0  37.0   61.0   79.0  0.77  0.47   \n",
       "1      1         Cloud9   3.0  0.0  3.0  38.8   22.0   30.0  0.73  0.45   \n",
       "2      2  Clutch Gaming  12.0  5.0  7.0  35.0  104.0  113.0  0.92  0.52   \n",
       "3      3       Echo Fox   7.0  4.0  3.0  27.9   72.0   84.0  0.86  0.80   \n",
       "4      4    Team Liquid  10.0  9.0  1.0  31.9  138.0   65.0  2.12  0.64   \n",
       "\n",
       "   ...    DRG% ELD%  FBN%  BN%   LNE%   JNG%   WPM  WCPM    VWC    IWC  \n",
       "0  ...     39%  50%   25%  36%  50.4%  48.9%  3.48  1.65  61.1%  21.5%  \n",
       "1  ...     42%  50%   33%  20%  50.7%  48.1%  2.98  1.83  60.4%  25.0%  \n",
       "2  ...     40%  50%   55%  47%  48.9%  45.6%  4.29  1.39  61.8%  20.5%  \n",
       "3  ...     60%    -   50%  50%  50.1%  59.9%  3.57  1.05  54.5%  16.8%  \n",
       "4  ...     74%  50%   80%  79%  50.5%  50.0%  3.95  1.32  66.8%  23.8%  \n",
       "\n",
       "[5 rows x 30 columns]"
      ]
     },
     "metadata": {},
     "output_type": "display_data"
    }
   ],
   "source": [
    "conn = sqlite3.connect(\"na.db\")\n",
    "cursor = conn.cursor()\n",
    "query = \"\"\"SELECT * FROM 'sqlite_master' WHERE type = \"table\" LIMIT 5;\"\"\"\n",
    "display(pd.read_sql_query(query,conn))x\n",
    "query = \"\"\"SELECT * FROM 'na-lcs-2018-spring-playoffs-team-statistics' LIMIT 5;\"\"\"\n",
    "display(pd.read_sql_query(query,conn))"
   ]
  },
  {
   "cell_type": "markdown",
   "metadata": {},
   "source": [
    "The second table shows an example of team statistics. I don't know what a lot of these columns mean so I'm also get the data dictionaries for the tables."
   ]
  },
  {
   "cell_type": "code",
   "execution_count": 4,
   "metadata": {},
   "outputs": [
    {
     "data": {
      "text/html": [
       "<div>\n",
       "<style>\n",
       "    .dataframe thead tr:only-child th {\n",
       "        text-align: right;\n",
       "    }\n",
       "\n",
       "    .dataframe thead th {\n",
       "        text-align: left;\n",
       "    }\n",
       "\n",
       "    .dataframe tbody tr th {\n",
       "        vertical-align: top;\n",
       "    }\n",
       "</style>\n",
       "<table border=\"1\" class=\"dataframe\">\n",
       "  <thead>\n",
       "    <tr style=\"text-align: right;\">\n",
       "      <th></th>\n",
       "      <th>Variable</th>\n",
       "      <th>Description</th>\n",
       "    </tr>\n",
       "  </thead>\n",
       "  <tbody>\n",
       "    <tr>\n",
       "      <th>0</th>\n",
       "      <td>GP</td>\n",
       "      <td>Games Played</td>\n",
       "    </tr>\n",
       "    <tr>\n",
       "      <th>1</th>\n",
       "      <td>W</td>\n",
       "      <td>Wins</td>\n",
       "    </tr>\n",
       "    <tr>\n",
       "      <th>2</th>\n",
       "      <td>L</td>\n",
       "      <td>Losses</td>\n",
       "    </tr>\n",
       "    <tr>\n",
       "      <th>3</th>\n",
       "      <td>AGT</td>\n",
       "      <td>Average Game Time (sometimes also called “G Len”)</td>\n",
       "    </tr>\n",
       "    <tr>\n",
       "      <th>4</th>\n",
       "      <td>P%</td>\n",
       "      <td>Percentage of games champion was picked in the...</td>\n",
       "    </tr>\n",
       "  </tbody>\n",
       "</table>\n",
       "</div>"
      ],
      "text/plain": [
       "  Variable                                        Description\n",
       "0       GP                                       Games Played\n",
       "1        W                                               Wins\n",
       "2        L                                             Losses\n",
       "3      AGT  Average Game Time (sometimes also called “G Len”)\n",
       "4       P%  Percentage of games champion was picked in the..."
      ]
     },
     "metadata": {},
     "output_type": "display_data"
    }
   ],
   "source": [
    "url=\"http://oracleselixir.com/definitions/\"\n",
    "conn = sqlite3.connect(\"data_dictionary.db\")\n",
    "hp = HTMLTableParser()\n",
    "table = hp.parse_url(url)[0][1]\n",
    "table.columns = [\"Variable\",\"Description\"]\n",
    "name=\"player_team_stats_dictionary\"\n",
    "display(table.head())\n",
    "table.to_sql(name,con=conn,if_exists='fail')"
   ]
  },
  {
   "cell_type": "markdown",
   "metadata": {},
   "source": [
    "## Match data\n",
    "\n",
    "The team and player statistics contain average/cumulative statistics for an entire season. There is a lot more data we can get from each individual match and thankfully, it's available for download on Oracle's Elixir. So lets put the match data into SQL databases. I had to download the match data and convert it to a CSV in excel beforehand. I will just use Pandas and sqlite3 to create the SQL tables. "
   ]
  },
  {
   "cell_type": "code",
   "execution_count": 8,
   "metadata": {},
   "outputs": [
    {
     "name": "stderr",
     "output_type": "stream",
     "text": [
      "C:\\Anaconda3\\lib\\site-packages\\IPython\\core\\interactiveshell.py:2698: DtypeWarning: Columns (33,34,35,36) have mixed types. Specify dtype option on import or set low_memory=False.\n",
      "  interactivity=interactivity, compiler=compiler, result=result)\n"
     ]
    },
    {
     "name": "stdout",
     "output_type": "stream",
     "text": [
      "2016matchdata\n"
     ]
    },
    {
     "name": "stderr",
     "output_type": "stream",
     "text": [
      "C:\\Anaconda3\\lib\\site-packages\\IPython\\core\\interactiveshell.py:2698: DtypeWarning: Columns (6,34,35,36,70) have mixed types. Specify dtype option on import or set low_memory=False.\n",
      "  interactivity=interactivity, compiler=compiler, result=result)\n"
     ]
    },
    {
     "name": "stdout",
     "output_type": "stream",
     "text": [
      "2017matchdata\n"
     ]
    },
    {
     "name": "stderr",
     "output_type": "stream",
     "text": [
      "C:\\Anaconda3\\lib\\site-packages\\IPython\\core\\interactiveshell.py:2698: DtypeWarning: Columns (6) have mixed types. Specify dtype option on import or set low_memory=False.\n",
      "  interactivity=interactivity, compiler=compiler, result=result)\n"
     ]
    },
    {
     "name": "stdout",
     "output_type": "stream",
     "text": [
      "2018matchdata\n"
     ]
    }
   ],
   "source": [
    "import sqlite3, os, glob\n",
    "import pandas as pd\n",
    "directory = \"..\\\\matchdata\"\n",
    "conn = sqlite3.connect(\"match_data.db\")\n",
    "cur = conn.cursor()\n",
    "os.chdir(directory)\n",
    "for ii in glob.glob(\"*.txt\"):\n",
    "    df = pd.read_csv(ii,sep=\"\\t\",encoding='latin')\n",
    "    name=ii.replace(\".txt\",\"\")#.split(\"OraclesElixir\")[0].replace(\"a-\",\"a\")\n",
    "    print(name)\n",
    "    try:\n",
    "        df.to_sql(name,con=conn,if_exists='fail')\n",
    "    except:\n",
    "        continue"
   ]
  },
  {
   "cell_type": "markdown",
   "metadata": {},
   "source": [
    "There are some errors about mixed data types but we will take care of those later on! For now, lets get the data dictionary for the match data:"
   ]
  },
  {
   "cell_type": "code",
   "execution_count": 6,
   "metadata": {},
   "outputs": [
    {
     "name": "stdout",
     "output_type": "stream",
     "text": [
      "  Variable                                        Description\n",
      "1   gameid         Unique game identifier from Riot’s server.\n",
      "2      url                                 Match history link\n",
      "3   league                                             League\n",
      "4    split  Time period covered, denoted by year and suffi...\n",
      "5     week  Within-split week and day (“week within season...\n"
     ]
    }
   ],
   "source": [
    "url=\"http://oracleselixir.com/match-data/match-data-dictionary/\"\n",
    "conn = sqlite3.connect(\"data_dictionary.db\")\n",
    "hp = HTMLTableParser()\n",
    "table = hp.parse_url(url)[0][1]\n",
    "table.columns = [\"Variable\",\"Description\"]\n",
    "table = table.drop(0,axis=0)\n",
    "name=\"matches_data_dictionary\"\n",
    "print(table.head())\n",
    "table.to_sql(name,con=conn,if_exists='fail')"
   ]
  },
  {
   "cell_type": "markdown",
   "metadata": {},
   "source": [
    "And we're done!"
   ]
  }
 ],
 "metadata": {
  "kernelspec": {
   "display_name": "Python 3",
   "language": "python",
   "name": "python3"
  },
  "language_info": {
   "codemirror_mode": {
    "name": "ipython",
    "version": 3
   },
   "file_extension": ".py",
   "mimetype": "text/x-python",
   "name": "python",
   "nbconvert_exporter": "python",
   "pygments_lexer": "ipython3",
   "version": "3.6.3"
  }
 },
 "nbformat": 4,
 "nbformat_minor": 2
}
