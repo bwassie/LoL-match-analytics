{
 "cells": [
  {
   "cell_type": "markdown",
   "metadata": {},
   "source": [
    "## Predicting Match Outcome"
   ]
  },
  {
   "cell_type": "code",
   "execution_count": 1,
   "metadata": {},
   "outputs": [],
   "source": [
    "import sys\n",
    "sys.path.append(\".//utils//\")\n",
    "import sqlite3, os\n",
    "import pandas as pd\n",
    "import parsing_utils\n",
    "from parsing_utils import parse_databases\n",
    "import importlib\n",
    "importlib.reload(parsing_utils)\n",
    "import pandas as pd\n",
    "import numpy as np\n",
    "import matplotlib\n",
    "import matplotlib.pyplot as plt\n",
    "plt.style.use(\"ggplot\")\n",
    "from IPython.display import display_html"
   ]
  },
  {
   "cell_type": "markdown",
   "metadata": {},
   "source": [
    "### Get match data, drop LPL games, and create a time scale"
   ]
  },
  {
   "cell_type": "code",
   "execution_count": 2,
   "metadata": {
    "collapsed": true
   },
   "outputs": [],
   "source": [
    "from sklearn.preprocessing import MinMaxScaler\n",
    "import math\n",
    "parser = parse_databases()\n",
    "db_dir =  \".//databases\"\n",
    "match,random = parser.get_dbs(db_dir)\n",
    "def drop_empty_cols(matches, minscale = .2):\n",
    "    thresh = int(matches.shape[0]*.15)\n",
    "    matches = matches[matches[\"league\"]!= \"LPL\"].dropna(axis=1, thresh=thresh)\n",
    "    matches[\"time\"] = MinMaxScaler((minscale,1)).fit_transform(matches.loc[:,[\"date\"]])\n",
    "    return matches\n",
    "query = \"\"\"SELECT * FROM '2016matchdata';\"\"\"\n",
    "matches_16 = drop_empty_cols(pd.read_sql_query(query,match))\n",
    "query = \"\"\"SELECT * FROM '2017matchdata';\"\"\"\n",
    "matches_17 = drop_empty_cols(pd.read_sql_query(query,match))\n",
    "query = \"\"\"SELECT * FROM '2018matchdata';\"\"\"\n",
    "matches_18 = drop_empty_cols(pd.read_sql_query(query,match), .4)"
   ]
  },
  {
   "cell_type": "markdown",
   "metadata": {},
   "source": [
    "### Define features of interest"
   ]
  },
  {
   "cell_type": "code",
   "execution_count": 3,
   "metadata": {},
   "outputs": [
    {
     "name": "stdout",
     "output_type": "stream",
     "text": [
      "['index', 'gameid', 'url', 'league', 'split', 'date', 'week', 'game', 'patchno', 'playerid', 'side', 'position', 'player', 'team', 'champion', 'ban1', 'ban2', 'ban3', 'gamelength', 'result', 'k', 'd', 'a', 'teamkills', 'teamdeaths', 'doubles', 'triples', 'quadras', 'pentas', 'fb', 'fbassist', 'fbvictim', 'fbtime', 'kpm', 'okpm', 'ckpm', 'fd', 'fdtime', 'teamdragkills', 'oppdragkills', 'herald', 'ft', 'fttime', 'firstmidouter', 'firsttothreetowers', 'teamtowerkills', 'opptowerkills', 'fbaron', 'fbarontime', 'teambaronkills', 'oppbaronkills', 'dmgtochamps', 'dmgtochampsperminute', 'dmgshare', 'earnedgoldshare', 'wards', 'wpm', 'wardshare', 'wardkills', 'wcpm', 'visionwards', 'visionwardbuys', 'visiblewardclearrate', 'invisiblewardclearrate', 'totalgold', 'earnedgpm', 'goldspent', 'gspd', 'minionkills', 'monsterkills', 'monsterkillsownjungle', 'monsterkillsenemyjungle', 'cspm', 'goldat10', 'oppgoldat10', 'gdat10', 'goldat15', 'oppgoldat15', 'gdat15', 'xpat10', 'oppxpat10', 'xpdat10', 'time']\n",
      "(83,)\n"
     ]
    }
   ],
   "source": [
    "d = [matches_16.columns.values,matches_17.columns.values,matches_18.columns.values]\n",
    "result = list(set(d[0]).intersection(*d))\n",
    "to_drop = [\"patchno\",\"gameid\",\"url\",\"index\",\"team\",\"gameid\",\"playerid\",\"Team\",\"date\",\"week\",\"split\"]\n",
    "features = pd.Series([x for x in matches_16.columns.values if x in result])\n",
    "print(list(features.values))\n",
    "print(features.shape)"
   ]
  },
  {
   "cell_type": "code",
   "execution_count": 4,
   "metadata": {},
   "outputs": [
    {
     "name": "stdout",
     "output_type": "stream",
     "text": [
      "2024\n",
      "64\n"
     ]
    }
   ],
   "source": [
    "to_use_players = None\n",
    "team_feats = ['teamkills', 'teamdeaths', 'fb', \n",
    "            'fbvictim', 'fbtime', 'kpm', 'okpm', 'ckpm', 'fd', 'fdtime', 'teamdragkills', \n",
    "          'oppdragkills', 'herald', 'ft', 'fttime', 'firstmidouter', 'firsttothreetowers', 'teamtowerkills', \n",
    "          'opptowerkills', 'fbaron', 'fbarontime', 'teambaronkills', 'oppbaronkills', 'dmgtochamps', \n",
    "          'dmgtochampsperminute', 'dmgshare', 'earnedgoldshare', 'wards', 'wpm', 'wardkills', \n",
    "          'wcpm', 'visionwards', 'visionwardbuys', 'visiblewardclearrate', 'invisiblewardclearrate', 'totalgold', \n",
    "          'earnedgpm', 'goldspent', 'gspd', 'minionkills', 'monsterkills', 'monsterkillsownjungle', \n",
    "          'monsterkillsenemyjungle', 'cspm', 'goldat10', 'oppgoldat10', 'gdat10', 'goldat15', 'oppgoldat15', \n",
    "          'gdat15', 'xpat10', 'oppxpat10', 'xpdat10', 'result', 'gamelength']\n",
    "\n",
    "player_feats_past = ['k', 'd', 'a', 'doubles', 'triples', 'quadras', 'pentas', 'fb', 'fbtime', 'gamelength', \n",
    "          'fbassist', 'fbvictim', 'kpm', 'fd', 'fdtime', 'dmgtochamps', 'dmgtochampsperminute',\n",
    "            'dmgshare', 'earnedgoldshare', 'wards', 'wpm', 'wardshare', 'wardkills', 'wcpm', \n",
    "        'visionwards', 'visionwardbuys', 'totalgold', 'earnedgpm', 'ft', 'fbaron' , 'fbarontime',\n",
    "        'goldspent', 'gspd', 'minionkills', 'monsterkills', 'monsterkillsownjungle', 'monsterkillsenemyjungle',\n",
    "        'cspm', 'gdat10', 'gdat15', 'xpdat10', 'result']\n",
    "\n",
    "player_feats = ['gamelength', 'result', 'k', 'd', 'a', 'teamkills', 'teamdeaths', 'doubles', 'triples', \n",
    "                'quadras', 'pentas', 'fb', 'fbassist', 'fbvictim', 'fbtime', 'kpm', 'okpm', 'ckpm', 'fd', \n",
    "                'fdtime', 'teamdragkills', 'oppdragkills', 'herald', 'ft', 'fttime', 'firstmidouter', \n",
    "                'firsttothreetowers', 'teamtowerkills', 'opptowerkills', 'fbaron', 'fbarontime', 'teambaronkills', \n",
    "                'oppbaronkills', 'dmgtochamps', 'dmgtochampsperminute', 'dmgshare', 'earnedgoldshare', 'wards', \n",
    "                'wpm', 'wardshare', 'wardkills', 'wcpm', 'visionwards', 'visionwardbuys', 'visiblewardclearrate', \n",
    "                'invisiblewardclearrate', 'totalgold', 'earnedgpm', 'goldspent', 'gspd', 'minionkills', \n",
    "                'monsterkills', 'monsterkillsownjungle', 'monsterkillsenemyjungle', 'cspm', 'goldat10', \n",
    "                'oppgoldat10', 'gdat10', 'goldat15', 'oppgoldat15', 'gdat15', 'xpat10', 'oppxpat10', 'xpdat10']\n",
    "\n",
    "team_stats = matches_16[matches_16[\"position\"].str.lower() == \"team\"]\n",
    "print(len(matches_16[\"gameid\"].unique()))\n",
    "print(len(player_feats)) #+ len(to_use_players))"
   ]
  },
  {
   "cell_type": "code",
   "execution_count": 274,
   "metadata": {},
   "outputs": [
    {
     "name": "stdout",
     "output_type": "stream",
     "text": [
      "{'Red': {'Top': ['red_Top_champion'], 'Jungle': ['red_Jungle_champion'], 'Middle': ['red_Middle_champion'], 'ADC': ['red_ADC_champion'], 'Support': ['red_Support_champion']}, 'Blue': {'Top': ['blue_Top_champion'], 'Jungle': ['blue_Jungle_champion'], 'Middle': ['blue_Middle_champion'], 'ADC': ['blue_ADC_champion'], 'Support': ['blue_Support_champion']}}\n",
      "{'Red': ['red_ban1', 'red_ban2', 'red_ban3', 'red_ban4', 'red_ban5'], 'Blue': ['blue_ban1', 'blue_ban2', 'blue_ban3', 'blue_ban4', 'blue_ban5']}\n"
     ]
    }
   ],
   "source": [
    "def make_feats(player_feats, roles=[\"Top\",\"Jungle\",\"Middle\",\"ADC\",\"Support\"]):\n",
    "    blue_feats = {}\n",
    "    red_feats = {}\n",
    "    feats = {}\n",
    "    all_feats = []\n",
    "    if roles != None:\n",
    "        for ii in roles:\n",
    "            blue_feats[ii] = [\"blue\"+\"_\"+ii+\"_\"+x for x in player_feats]\n",
    "            red_feats[ii] = [\"red\"+\"_\"+ii+\"_\"+x for x in player_feats]\n",
    "            all_feats += blue_feats[ii]\n",
    "            all_feats += red_feats[ii]\n",
    "        feats = {\"Red\":red_feats,\"Blue\":blue_feats}\n",
    "    else:\n",
    "        blue_feats = [\"blue\"+\"_\"+x for x in player_feats]\n",
    "        red_feats = [\"red\"+\"_\"+x for x in player_feats]\n",
    "        all_feats += blue_feats\n",
    "        all_feats += red_feats\n",
    "        feats = {\"Red\":red_feats,\"Blue\":blue_feats}\n",
    "    return all_feats, feats\n",
    "    print(len(feats))\n",
    "    \n",
    "all_feats, feats = make_feats(player_feats)\n",
    "team_feats = ['champion', 'ban1', 'ban2', 'ban3', 'ban4', 'ban5']\n",
    "champ_feats , champ_dict = make_feats(['champion'])\n",
    "ban_feats , ban_dict = make_feats(['ban1', 'ban2', 'ban3', 'ban4', 'ban5'], roles = None)\n",
    "team_feats = sorted(champ_feats) + ban_feats\n",
    "print(champ_dict)\n",
    "print(ban_dict)"
   ]
  },
  {
   "cell_type": "markdown",
   "metadata": {},
   "source": [
    "### Make a dict of player stats from previous years"
   ]
  },
  {
   "cell_type": "code",
   "execution_count": 275,
   "metadata": {
    "collapsed": true,
    "scrolled": false
   },
   "outputs": [],
   "source": [
    "def get_player_dict(to_use, player_feats, scale = True):\n",
    "    players_dict = pd.DataFrame(index=to_use[\"player\"].unique(),columns=player_feats).fillna(0.0)\n",
    "    players_dict[\"num_matches\"] = 0\n",
    "    group = to_use.groupby(\"player\").groups\n",
    "    for ii in group:\n",
    "        player_stats = to_use[to_use[\"player\"]==ii].apply(pd.to_numeric, errors = \"coerce\").fillna(0.0)\n",
    "        #display(player_stats.loc[:,[\"k\",\"time\"]].mean(axis=0,skipna=False, numeric_only=None))\n",
    "        if scale:\n",
    "            players_dict.loc[ii,player_feats] = player_stats.loc[:,player_feats].multiply(player_stats[\"time\"],axis=\"index\").mean(axis=0,skipna=False, numeric_only=None)\n",
    "        else:\n",
    "            players_dict.loc[ii,player_feats] = player_stats.loc[:,player_feats].mean(axis=0,skipna=False, numeric_only=None)\n",
    "        players_dict.loc[ii,\"num_matches\"] = player_stats.shape[0]\n",
    "        #display(players_dict.loc[ii,\"k\"])\n",
    "    return players_dict\n",
    "\n",
    "players_2016 = get_player_dict(matches_16,player_feats, scale = True)\n",
    "players_2017 = get_player_dict(matches_17, player_feats, scale= True)\n"
   ]
  },
  {
   "cell_type": "code",
   "execution_count": 514,
   "metadata": {},
   "outputs": [
    {
     "name": "stdout",
     "output_type": "stream",
     "text": [
      "305\n",
      "654\n",
      "82\n",
      "380\n"
     ]
    }
   ],
   "source": [
    "test = matches_17.copy()\n",
    "notin = test[~test[\"player\"].isin(matches_16[\"player\"].unique())]\n",
    "#print(len(matches_16[\"player\"].unique()))\n",
    "#print(len(matches_18[\"player\"].unique()))\n",
    "#print(len(notin[\"player\"].unique()))\n",
    "notin = matches_17[~matches_17[\"player\"].isin(matches_16[\"player\"])]\n",
    "print(len(notin[\"player\"].unique()))\n",
    "print(len(matches_17[\"player\"].unique()))\n",
    "test = matches_16.append(matches_17)\n",
    "notin = matches_18[~matches_18[\"player\"].isin(test[\"player\"])]\n",
    "print(len(notin[\"player\"].unique()))\n",
    "print(len(matches_18[\"player\"].unique()))"
   ]
  },
  {
   "cell_type": "markdown",
   "metadata": {},
   "source": [
    "### Define helper functions"
   ]
  },
  {
   "cell_type": "code",
   "execution_count": 276,
   "metadata": {
    "collapsed": true
   },
   "outputs": [],
   "source": [
    "def check_if_new(past_data, current_data, player):\n",
    "    value = True\n",
    "    for ii in past_data.keys():\n",
    "        if player in past_data[ii].index.values:\n",
    "            value = False\n",
    "            return value\n",
    "    for jj in current_data.keys():\n",
    "        if player in jj:\n",
    "            value=False\n",
    "            return value\n",
    "    return value\n",
    "\n",
    "def get_average(past_data, role, side, player_feats):\n",
    "    year = sorted(list(past_data.keys()),reverse=True)[0]\n",
    "    subset = past_data[year].copy()\n",
    "    subset.loc[:,player_feats] = subset.loc[:,player_feats].apply(pd.to_numeric, errors = \"coerce\").fillna(0.0)\n",
    "    factor = 1\n",
    "    average = factor*(subset[(subset[\"position\"]==role) & (subset[\"side\"] == side)].loc[:,player_feats]).mean(axis=0, skipna=False, numeric_only = None)\n",
    "    return average.values\n",
    "\n",
    "def update_current(current_data,game, player):\n",
    "    if player not in current_data.keys():\n",
    "        current_data[player] = game[game[\"player\"] == player]\n",
    "    else:\n",
    "        current_data[player] = current_data[player].append(game[game[\"player\"] == player])\n",
    "    return current_data\n",
    "\n",
    "def get_stats(past_data, current_data, player=None, player_feats=None):\n",
    "    n = 0\n",
    "    tmatches = 0\n",
    "    stats = pd.Series(index = player_feats).fillna(0)\n",
    "    if player in current_data.keys():\n",
    "        #print(\"Current\")\n",
    "        n+=1\n",
    "        data = current_data[player]\n",
    "        stats = data.loc[:,player_feats].apply(pd.to_numeric, errors = \"coerce\").fillna(0.0).multiply(data[\"time\"],axis=\"index\").sum(axis=0, skipna=False, numeric_only = None)\n",
    "        tmatches = data.shape[0]\n",
    "    #print(stats.index.values)\n",
    "    for ii in sorted(list(past_data.keys()),reverse=True):\n",
    "        #print(\"Past\")\n",
    "        pdata = past_data[ii]\n",
    "        scaling = 1.5**n\n",
    "        n+=1\n",
    "        try:\n",
    "            stats += pdata.loc[player,\"num_matches\"]* pdata.loc[player,player_feats]/scaling\n",
    "            tmatches += pdata.loc[player,\"num_matches\"]\n",
    "        except:\n",
    "            continue\n",
    "    stats = stats/tmatches\n",
    "    #print(stat_ids)\n",
    "    return stats.values"
   ]
  },
  {
   "cell_type": "code",
   "execution_count": 277,
   "metadata": {
    "collapsed": true
   },
   "outputs": [],
   "source": [
    "average = {}\n",
    "past_matches = {2016:matches_16}#, 2017:matches_17}\n",
    "for ii in [\"Red\" , \"Blue\"]:\n",
    "    side = {}\n",
    "    for jj in [\"Top\", \"Jungle\", \"Middle\", \"ADC\", \"Support\"]:\n",
    "        side[jj] =  get_average(past_matches, jj, ii, player_feats)\n",
    "    average[ii] = side"
   ]
  },
  {
   "cell_type": "code",
   "execution_count": 466,
   "metadata": {},
   "outputs": [
    {
     "name": "stdout",
     "output_type": "stream",
     "text": [
      "Currently on match #: 100\n",
      "Time elapsed to process last batch: 58.109135150909424\n",
      "Currently on match #: 200\n",
      "Time elapsed to process last batch: 59.41537642478943\n",
      "Currently on match #: 300\n",
      "Time elapsed to process last batch: 53.18748736381531\n",
      "Currently on match #: 400\n",
      "Time elapsed to process last batch: 52.789520263671875\n",
      "Currently on match #: 500\n",
      "Time elapsed to process last batch: 56.780688762664795\n",
      "Currently on match #: 600\n",
      "Time elapsed to process last batch: 56.478395223617554\n",
      "Currently on match #: 700\n",
      "Time elapsed to process last batch: 60.996344804763794\n",
      "Currently on match #: 800\n",
      "Time elapsed to process last batch: 57.264713764190674\n",
      "# New Players: 81\n",
      "# Total Players: 379\n"
     ]
    }
   ],
   "source": [
    "import time\n",
    "past_data = {2016:players_2016, 2017:players_2017}\n",
    "past_matches = {2016:matches_16, 2017:matches_17}\n",
    "to_use = matches_18.copy()\n",
    "match_data = pd.DataFrame(columns = all_feats+[\"league\"], index = to_use[\"gameid\"].unique()).fillna(0.0)\n",
    "match_data[\"blue_win\"] = 0\n",
    "def calculate_stats(to_use, past_data, past_matches, match_data):\n",
    "    current_data = {}\n",
    "    #display(match_data.head())\n",
    "    n = 0\n",
    "    new = 0\n",
    "    times = []\n",
    "    overall = time.time()\n",
    "    for ii in to_use.groupby(\"gameid\").groups:\n",
    "        start = time.time()\n",
    "        n+=1\n",
    "        game = to_use[to_use[\"gameid\"]==ii]\n",
    "\n",
    "        if game[game[\"side\"]==\"Blue\"][\"result\"].unique()[0] == 1:\n",
    "            match_data.loc[ii,\"blue_win\"] = 1\n",
    "        else:\n",
    "            match_data.loc[ii,\"blue_win\"] = 0\n",
    "        match_data.loc[ii,\"league\"] = game[\"league\"].unique()[0]\n",
    "        for _,jj in game.iterrows():\n",
    "            if \"team\" not in jj[\"position\"].lower():\n",
    "                role = jj[\"position\"]\n",
    "                side = jj[\"side\"]\n",
    "                #print(game[game[\"player\"]==jj][\"position\"].values)\n",
    "                #print(game[game[\"player\"]==jj][\"side\"].values)\n",
    "                if check_if_new(past_data, current_data, jj[\"player\"]):\n",
    "                    new +=1\n",
    "                    #average = get_average(past_matches, role, side, player_feats)\n",
    "                    match_data.loc[ii,feats[side][role]] = average[side][role]\n",
    "                else:\n",
    "                    stats = get_stats(past_data, current_data,jj[\"player\"], player_feats)\n",
    "                    match_data.loc[ii,feats[side][role]] = stats\n",
    "                current_data = update_current(current_data,game, jj[\"player\"])\n",
    "        delta = time.time() - start\n",
    "        times.append(delta)\n",
    "        if n % 100 == 0:\n",
    "            diff = time.time() - overall\n",
    "            print(\"Currently on match #: {}\".format(n))\n",
    "            print(\"Time elapsed to process last batch: {}\".format(diff))\n",
    "            overall = time.time()\n",
    "        if n > 200000000:\n",
    "            break\n",
    "    #display(match_data.head())\n",
    "    total = len(current_data.keys())\n",
    "    print(\"# New Players: {}\".format(new))\n",
    "    print(\"# Total Players: {}\".format(total))\n",
    "    return match_data,  current_data\n",
    "\n",
    "match_data, current_data = calculate_stats(to_use, past_data, past_matches, match_data)\n",
    "#match_data.to_csv(\"2018_scale_test\",sep=\"\\t\",index=False)"
   ]
  },
  {
   "cell_type": "code",
   "execution_count": 490,
   "metadata": {
    "scrolled": true
   },
   "outputs": [
    {
     "name": "stdout",
     "output_type": "stream",
     "text": [
      "['Hanabi' 'Moojin' 'Maple' 'Betty' 'SwordArT' 'Team' 'MMD' 'ShiauC'\n",
      " 'Morning']\n",
      "['Rascal' 'Peanut' 'Bdd' 'Pray' 'GorillA' 'Team' 'Khan' 'Cuzz']\n"
     ]
    },
    {
     "data": {
      "text/html": [
       "<div>\n",
       "<style>\n",
       "    .dataframe thead tr:only-child th {\n",
       "        text-align: right;\n",
       "    }\n",
       "\n",
       "    .dataframe thead th {\n",
       "        text-align: left;\n",
       "    }\n",
       "\n",
       "    .dataframe tbody tr th {\n",
       "        vertical-align: top;\n",
       "    }\n",
       "</style>\n",
       "<table border=\"1\" class=\"dataframe\">\n",
       "  <thead>\n",
       "    <tr style=\"text-align: right;\">\n",
       "      <th></th>\n",
       "      <th>blue_Top_gamelength</th>\n",
       "      <th>blue_Top_result</th>\n",
       "      <th>blue_Top_k</th>\n",
       "      <th>blue_Top_d</th>\n",
       "      <th>blue_Top_a</th>\n",
       "      <th>blue_Top_teamkills</th>\n",
       "      <th>blue_Top_teamdeaths</th>\n",
       "      <th>blue_Top_doubles</th>\n",
       "      <th>blue_Top_triples</th>\n",
       "      <th>blue_Top_quadras</th>\n",
       "      <th>...</th>\n",
       "      <th>red_Support_gdat10</th>\n",
       "      <th>red_Support_goldat15</th>\n",
       "      <th>red_Support_oppgoldat15</th>\n",
       "      <th>red_Support_gdat15</th>\n",
       "      <th>red_Support_xpat10</th>\n",
       "      <th>red_Support_oppxpat10</th>\n",
       "      <th>red_Support_xpdat10</th>\n",
       "      <th>league</th>\n",
       "      <th>blue_win</th>\n",
       "      <th>year</th>\n",
       "    </tr>\n",
       "  </thead>\n",
       "  <tbody>\n",
       "    <tr>\n",
       "      <th>1</th>\n",
       "      <td>23.69116</td>\n",
       "      <td>0.605956</td>\n",
       "      <td>1.615607</td>\n",
       "      <td>0.756153</td>\n",
       "      <td>3.786605</td>\n",
       "      <td>8.469457</td>\n",
       "      <td>3.402348</td>\n",
       "      <td>0.230516</td>\n",
       "      <td>0.032936</td>\n",
       "      <td>0.0</td>\n",
       "      <td>...</td>\n",
       "      <td>10.315665</td>\n",
       "      <td>1189.351593</td>\n",
       "      <td>1165.48523</td>\n",
       "      <td>23.866363</td>\n",
       "      <td>980.559517</td>\n",
       "      <td>953.616207</td>\n",
       "      <td>26.943309</td>\n",
       "      <td>0.0</td>\n",
       "      <td>0</td>\n",
       "      <td>2018.0</td>\n",
       "    </tr>\n",
       "  </tbody>\n",
       "</table>\n",
       "<p>1 rows × 643 columns</p>\n",
       "</div>"
      ],
      "text/plain": [
       "   blue_Top_gamelength  blue_Top_result  blue_Top_k  blue_Top_d  blue_Top_a  \\\n",
       "1             23.69116         0.605956    1.615607    0.756153    3.786605   \n",
       "\n",
       "   blue_Top_teamkills  blue_Top_teamdeaths  blue_Top_doubles  \\\n",
       "1            8.469457             3.402348          0.230516   \n",
       "\n",
       "   blue_Top_triples  blue_Top_quadras   ...    red_Support_gdat10  \\\n",
       "1          0.032936               0.0   ...             10.315665   \n",
       "\n",
       "   red_Support_goldat15  red_Support_oppgoldat15  red_Support_gdat15  \\\n",
       "1           1189.351593               1165.48523           23.866363   \n",
       "\n",
       "   red_Support_xpat10  red_Support_oppxpat10  red_Support_xpdat10  league  \\\n",
       "1          980.559517             953.616207            26.943309     0.0   \n",
       "\n",
       "   blue_win    year  \n",
       "1         0  2018.0  \n",
       "\n",
       "[1 rows x 643 columns]"
      ]
     },
     "metadata": {},
     "output_type": "display_data"
    },
    {
     "data": {
      "text/plain": [
       "array([[ 0.67675304,  0.32324693]], dtype=float32)"
      ]
     },
     "execution_count": 490,
     "metadata": {},
     "output_type": "execute_result"
    }
   ],
   "source": [
    "match_data = pd.DataFrame(columns = all_feats+[\"league\"], index = [\"1\"]).fillna(0.0)\n",
    "match_data[\"blue_win\"] = 0\n",
    "blue = {'Top':'Hanabi','Jungle':'Moojin','Middle':'Maple','ADC':'Betty','Support':'SwordArT'}\n",
    "red = {'Top':'Khan','Jungle':'Peanut','Middle':'Bdd','ADC':'Pray','Support':'GorillA'}\n",
    "#red = ['Khan','Peanut','Bdd', 'Pray', 'GorillA']\n",
    "players = {\"Blue\":blue,\"Red\":red}\n",
    "print(matches_18[matches_18[\"team\"]==\"Flash Wolves\"][\"player\"].unique())\n",
    "print(matches_18[matches_18[\"team\"].str.contains(\"King\")][\"player\"].unique())\n",
    "for ii in players.keys():\n",
    "    for jj in players[ii].keys():\n",
    "        role = jj\n",
    "        side = ii\n",
    "        player = players[ii][jj]\n",
    "        #print(game[game[\"player\"]==jj][\"position\"].values)\n",
    "        #print(game[game[\"player\"]==jj][\"side\"].values)\n",
    "        if check_if_new(past_data, current_data, player):\n",
    "            new +=1\n",
    "            #average = get_average(past_matches, role, side, player_feats)\n",
    "            match_data.loc[\"1\",feats[side][role]] = average[side][role]\n",
    "        else:\n",
    "            stats = get_stats(past_data, current_data,player, player_feats)\n",
    "            match_data.loc[\"1\",feats[side][role]] = stats\n",
    "match_data[\"year\"] = 2018.0\n",
    "display(match_data)\n",
    "#print(match_data.columns.values)\n",
    "#print(match_all.columns.values)\n",
    "data = scaler.transform(match_data.drop(labels = [\"league\",\"blue_win\"],axis=1))\n",
    "gbm.predict_proba(data)\n",
    "#print(data)"
   ]
  },
  {
   "cell_type": "code",
   "execution_count": 498,
   "metadata": {},
   "outputs": [
    {
     "name": "stdout",
     "output_type": "stream",
     "text": [
      "(41856, 64)\n"
     ]
    }
   ],
   "source": [
    "test = matches_17.loc[:,player_feats].append(matches_18.loc[:,player_feats])\n",
    "print(test.shape)"
   ]
  },
  {
   "cell_type": "code",
   "execution_count": 207,
   "metadata": {
    "collapsed": true
   },
   "outputs": [],
   "source": [
    "to_use = matches_18.copy()\n",
    "match_data = pd.DataFrame(columns = team_feats + [\"league\"], index = to_use[\"gameid\"].unique())\n",
    "match_data[\"blue_win\"] = 0\n",
    "for ii in to_use.groupby(\"gameid\").groups:\n",
    "    \n",
    "    game = to_use[to_use[\"gameid\"]==ii]\n",
    "    \n",
    "    if game[game[\"side\"]==\"Blue\"][\"result\"].unique()[0] == 1:\n",
    "        match_data.loc[ii,\"blue_win\"] = 1\n",
    "    else:\n",
    "        match_data.loc[ii,\"blue_win\"] = 0\n",
    "    match_data.loc[ii,\"league\"] = game[\"league\"].unique()[0]\n",
    "    \n",
    "    for _,jj in game.iterrows():\n",
    "        role = jj[\"position\"]\n",
    "        side = jj[\"side\"]\n",
    "        if \"team\" not in role.lower():\n",
    "            match_data.loc[ii,champ_dict[side][role]] = jj[\"champion\"]\n",
    "        else:\n",
    "            match_data.loc[ii,ban_dict[side]] = jj.loc[['ban1', 'ban2', 'ban3', 'ban4', 'ban5']].values\n",
    "            \n",
    "#match_data.to_csv(\"2018_match_data_team_comp.txt\",sep=\"\\t\",index=False)"
   ]
  },
  {
   "cell_type": "code",
   "execution_count": 282,
   "metadata": {
    "scrolled": false
   },
   "outputs": [
    {
     "name": "stdout",
     "output_type": "stream",
     "text": [
      "379\n",
      "0.5394883203559511\n"
     ]
    },
    {
     "data": {
      "image/png": "[encoded data removed]",
      "text/plain": [
       "<matplotlib.figure.Figure at 0x18a916888d0>"
      ]
     },
     "metadata": {},
     "output_type": "display_data"
    }
   ],
   "source": [
    "print(len(current_data))\n",
    "print(match_data[\"blue_win\"].mean(axis=0))\n",
    "d = pd.DataFrame(times, columns = [\"times\"])\n",
    "d[\"matches\"] = d.index.values+1\n",
    "d.plot.scatter(x=\"matches\",y=\"times\")\n",
    "plt.show()"
   ]
  },
  {
   "cell_type": "code",
   "execution_count": 681,
   "metadata": {
    "collapsed": true
   },
   "outputs": [],
   "source": [
    "#match1 = pd.read_csv(\"2017_match_data_high_scale_ml.txt\",sep=\"\\t\")\n",
    "match1 = pd.read_csv(\"2017_match_data_high_scale_all_feats_ml.txt\",sep=\"\\t\")\n",
    "#match1 = pd.read_csv(\"2017_match_data_team_comp.txt\",sep=\"\\t\")\n",
    "match1[\"year\"] = 2017.0\n",
    "#match2 = pd.read_csv(\"2018_match_data_high_scale_ml.txt\",sep=\"\\t\")\n",
    "match2 = pd.read_csv(\"2018_match_data_high_scale_all_feats_ml.txt\",sep=\"\\t\")\n",
    "#match2 = pd.read_csv(\"2018_match_data_team_comp.txt\",sep=\"\\t\")\n",
    "match2[\"year\"] = 2018.0\n",
    "match_all = match1.append(match2)#.sample(frac=1.0)\n",
    "#print(match_all.dtypes)"
   ]
  },
  {
   "cell_type": "code",
   "execution_count": 682,
   "metadata": {},
   "outputs": [
    {
     "name": "stdout",
     "output_type": "stream",
     "text": [
      "0.557742402315\n"
     ]
    },
    {
     "data": {
      "image/png": "[encoded data removed]",
      "text/plain": [
       "<matplotlib.figure.Figure at 0x18a9a5d5eb8>"
      ]
     },
     "metadata": {},
     "output_type": "display_data"
    }
   ],
   "source": [
    "reset_dir()\n",
    "from sklearn.preprocessing import StandardScaler\n",
    "import analytics_utils\n",
    "from analytics_utils import supervised_analysis\n",
    "import importlib\n",
    "importlib.reload(analytics_utils)\n",
    "from sklearn.model_selection import train_test_split\n",
    "\n",
    "#data = match_all.dropna(how = \"any\", axis=0).drop(\"league\",axis=1)\n",
    "def split(match_data, split = True):\n",
    "    data = match_data.dropna(how = \"any\", axis=0).drop(\"league\",axis=1, errors = \"ignore\")\n",
    "    data_init = pd.get_dummies(data)\n",
    "    cols = data_init.drop(\"blue_win\",axis=1).columns.values\n",
    "    y = data_init[\"blue_win\"].values\n",
    "    scaler = StandardScaler().fit(data_init.drop(\"blue_win\",axis=1))\n",
    "    data = scaler.transform(data_init.drop(\"blue_win\",axis=1))\n",
    "    #print(\"Blue win rate: {:10.3f}\".format(data_init[\"blue_win\"].mean(axis=0)))\n",
    "    if split:\n",
    "        X_train, X_test, y_train, y_test = train_test_split(data, y, test_size=0.3, random_state=21, shuffle=True, stratify = y)\n",
    "        return y, cols, X_train, X_test, y_train, y_test, scaler\n",
    "    else:\n",
    "        return y, cols, data, data_init, scaler\n",
    "\n",
    "\n",
    "#y, cols, data, data_init = split(match_all, False)\n",
    "y,cols,X_train, X_test, y_train, y_test,scaler = split(match_all, True)\n",
    "#y, cols, data, data_init, scaler = split(match_all, False)\n",
    "#m1 = all_matches[all_matches[\"year\"] == 2017]\n",
    "#m2 = match_all[match_all[\"year\"] == 2018]\n",
    "#y1, cols1, X_train1, X_test1, y_train1, y_test1 = split(m1)\n",
    "#y1, _, data1, _ = split(m1, False)\n",
    "\n",
    "#league = \"LCK\"\n",
    "\n",
    "#m2 = match_all[match_all[\"league\"] == league]\n",
    "#y2, _, data2, _,_ = split(m2, False)\n",
    "print(match_all[\"blue_win\"].value_counts(normalize=True).iloc[0])\n",
    "match_all[\"league\"].value_counts().plot.bar()\n",
    "plt.show()"
   ]
  },
  {
   "cell_type": "code",
   "execution_count": 683,
   "metadata": {
    "collapsed": true
   },
   "outputs": [],
   "source": [
    "import xgboost as xgb\n",
    "from sklearn.metrics import accuracy_score\n",
    "from sklearn.metrics import roc_auc_score\n",
    "from sklearn.model_selection import cross_val_score\n",
    "def run_classifier(X_train, X_test, y_train, y_test, params = {\"max_depth\":1, \"n_estimators\":100, \"learning_rate\":.1, \"colsample_bytree\": .5, \"subsample\": .5, \"gamma\":0}, cv = True):\n",
    "    cvresult = None\n",
    "    clf = xgb.XGBClassifier(max_depth=params[\"max_depth\"], n_estimators=params[\"n_estimators\"], learning_rate=params[\"learning_rate\"], colsample_bytree = params[\"colsample_bytree\"], subsample=params[\"subsample\"], gamma = params[\"gamma\"])\n",
    "    xgb_param = clf.get_xgb_params()\n",
    "    if cv:\n",
    "        #xgtrain = xgb.DMatrix(X_train, label=y_train)\n",
    "        #cvresult = xgb.cv(xgb_param, xgtrain, num_boost_round=5000, nfold=5, metrics=['error'], early_stopping_rounds=10, stratified=True, seed=1301)\n",
    "        #clf.set_params(n_estimators=cvresult.shape[0])\n",
    "        cvresult = cross_val_score(clf,X_train,y_train,cv = 5)\n",
    "    #print(cvresult)\n",
    "    clf.fit(X_train, y_train)\n",
    "    \n",
    "    train_pred = clf.predict(X_train)\n",
    "    train_acc = accuracy_score(y_train, train_pred)\n",
    "    #print('Training AUC:', roc_auc_score(y_train, clf.predict_proba(X_train)[:,1]))\n",
    "    print(\"Training accuracy: {:10.3f}\".format(train_acc))\n",
    "    \n",
    "    #pred = clf.predict_proba(X_test, ntree_limit=cvresult.shape[0])\n",
    "    #print('Testing AUC:', roc_auc_score(y_test, clf.predict_proba(X_test)[:,1]))\n",
    "    test_pred = clf.predict(X_test)\n",
    "    test_acc = accuracy_score(y_test, test_pred)\n",
    "    print(\"Testing accuracy: {:10.3f}\".format(test_acc))\n",
    "    \n",
    "    #print('Best number of trees = {}'.format(cvresult.shape[0]))\n",
    "    #train_pred = clf.predict(X_train)\n",
    "    #test_pred = clf.predict(X_test)\n",
    "    #train_acc = accuracy_score(y_train, train_pred)\n",
    "    #test_acc = accuracy_score(y_test, test_pred)\n",
    "    #print(\"Training accuracy: {:10.3f}\".format(train_acc))\n",
    "    #print(\"Testing accuracy: {:10.3f}\".format(test_acc))\n",
    "    return clf, cvresult\n"
   ]
  },
  {
   "cell_type": "code",
   "execution_count": 684,
   "metadata": {},
   "outputs": [
    {
     "name": "stdout",
     "output_type": "stream",
     "text": [
      "Training accuracy:      0.749\n",
      "Testing accuracy:      0.662\n"
     ]
    }
   ],
   "source": [
    "#params = {\"max_depth\":3, \"n_estimators\":70, \"learning_rate\":.08, \"colsample_bytree\": .5, \"subsample\": .5, \"gamma\":0}\n",
    "#data_init = data_init.sample(frac=1)\n",
    "#y = data_init[\"blue_win\"].values\n",
    "#scaler = StandardScaler().fit(data_init.drop(\"blue_win\",axis=1))\n",
    "#data = scaler.transform(data_init.drop(\"blue_win\",axis=1))\n",
    "#X_train, X_test, y_train, y_test = train_test_split(data, y, test_size=0.3, random_state=21, shuffle=True, stratify = y)\n",
    "#params={\"max_depth\":3, \"n_estimators\":50, \"learning_rate\":.08, \"colsample_bytree\": .5, \"subsample\": .5, \"gamma\":0}\n",
    "gbm,cvresult = run_classifier(X_train, X_test, y_train, y_test, params, cv=False)\n",
    "if cvresult is not None:\n",
    "    #cvresult[\"train_acc\"] = 1 - cvresult[\"train-error-mean\"]\n",
    "    #cvresult[\"test_acc\"] = 1 - cvresult[\"test-error-mean\"]\n",
    "    #display(cvresult.loc[:,[\"train_acc\", \"train-error-std\", \"test_acc\",\"test-error-std\"]].tail())\n",
    "    print(\"CV mean: {:10.4f}\\nCV Std: {:10.4f}\".format(cvresult.mean(), cvresult.std()))"
   ]
  },
  {
   "cell_type": "code",
   "execution_count": 669,
   "metadata": {},
   "outputs": [
    {
     "data": {
      "text/plain": [
       "RandomizedSearchCV(cv=5, error_score='raise',\n",
       "          estimator=XGBClassifier(base_score=0.5, booster='gbtree', colsample_bylevel=1,\n",
       "       colsample_bytree=1, gamma=0, learning_rate=0.1, max_delta_step=0,\n",
       "       max_depth=3, min_child_weight=1, missing=None, n_estimators=100,\n",
       "       n_jobs=1, nthread=None, objective='binary:logistic', random_state=0,\n",
       "       reg_alpha=0, reg_lambda=1, scale_pos_weight=1, seed=None,\n",
       "       silent=True, subsample=1),\n",
       "          fit_params=None, iid=True, n_iter=10, n_jobs=1,\n",
       "          param_distributions={'n_estimators': <scipy.stats._distn_infrastructure.rv_frozen object at 0x0000018A975B63C8>, 'max_depth': <scipy.stats._distn_infrastructure.rv_frozen object at 0x0000018A975B67B8>, 'learning_rate': <scipy.stats._distn_infrastructure.rv_frozen object at 0x0000018A975B69E8>, 'cols...90>, 'min_child_weight': <scipy.stats._distn_infrastructure.rv_frozen object at 0x0000018A975B6390>},\n",
       "          pre_dispatch='2*n_jobs', random_state=None, refit=True,\n",
       "          return_train_score='warn', scoring=None, verbose=0)"
      ]
     },
     "execution_count": 669,
     "metadata": {},
     "output_type": "execute_result"
    }
   ],
   "source": [
    "from sklearn.model_selection import RandomizedSearchCV\n",
    "import scipy.stats as st\n",
    "\n",
    "one_to_left = st.beta(10, 1)  \n",
    "from_zero_positive = st.expon(0, 50)\n",
    "\n",
    "clf = xgb.XGBClassifier()\n",
    "params = {  \n",
    "    \"n_estimators\": st.randint(3, 100),\n",
    "    \"max_depth\": st.randint(1, 40),\n",
    "    \"learning_rate\": st.uniform(0.01, 0.4),\n",
    "    \"colsample_bytree\": one_to_left,\n",
    "    \"subsample\": one_to_left,\n",
    "    \"gamma\": st.uniform(0, 10),\n",
    "    'reg_alpha': from_zero_positive,\n",
    "    \"min_child_weight\": from_zero_positive,\n",
    "}\n",
    "gs = RandomizedSearchCV(clf, params, n_jobs=1, cv=5)  \n",
    "gs.fit(X_train, y_train)  \n"
   ]
  },
  {
   "cell_type": "code",
   "execution_count": 679,
   "metadata": {},
   "outputs": [
    {
     "name": "stdout",
     "output_type": "stream",
     "text": [
      "Training accuracy:      0.741\n",
      "Testing accuracy:      0.619\n"
     ]
    }
   ],
   "source": [
    "clf = gs.best_estimator_\n",
    "xgb_param = clf.get_xgb_params()\n",
    "data_init = data_init.sample(frac=1)\n",
    "y = data_init[\"blue_win\"].values\n",
    "scaler = StandardScaler().fit(data_init.drop(\"blue_win\",axis=1))\n",
    "data = scaler.transform(data_init.drop(\"blue_win\",axis=1))\n",
    "X_train, X_test, y_train, y_test = train_test_split(data, y, test_size=0.3, random_state=21, shuffle=True, stratify = y)\n",
    "clf.fit(X_train, y_train)d\n",
    "train_pred = clf.predict(X_train)\n",
    "train_acc = accuracy_score(y_train, train_pred)\n",
    "#print('Training AUC:', roc_auc_score(y_train, clf.predict_proba(X_train)[:,1]))\n",
    "print(\"Training accuracy: {:10.3f}\".format(train_acc))\n",
    "\n",
    "#pred = clf.predict_proba(X_test, ntree_limit=cvresult.shape[0])\n",
    "#print('Testing AUC:', roc_auc_score(y_test, clf.predict_proba(X_test)[:,1]))\n",
    "test_pred = clf.predict(X_test)\n",
    "test_acc = accuracy_score(y_test, test_pred)\n",
    "print(\"Testing accuracy: {:10.3f}\".format(test_acc))"
   ]
  },
  {
   "cell_type": "code",
   "execution_count": 677,
   "metadata": {},
   "outputs": [
    {
     "name": "stdout",
     "output_type": "stream",
     "text": [
      "0.629921259843\n",
      "{'base_score': 0.5, 'booster': 'gbtree', 'colsample_bylevel': 1, 'colsample_bytree': 0.95189402067426998, 'gamma': 3.4046372184882645, 'learning_rate': 0.23949358694003495, 'max_delta_step': 0, 'max_depth': 13, 'min_child_weight': 4.6529230741397205, 'missing': None, 'n_estimators': 27, 'nthread': 1, 'objective': 'binary:logistic', 'reg_alpha': 26.787472403914908, 'reg_lambda': 1, 'scale_pos_weight': 1, 'seed': 0, 'silent': 1, 'subsample': 0.68356946419822784}\n"
     ]
    }
   ],
   "source": [
    "print(gs.best_score_)\n",
    "print(xgb_param)\n"
   ]
  },
  {
   "cell_type": "code",
   "execution_count": 561,
   "metadata": {},
   "outputs": [
    {
     "name": "stdout",
     "output_type": "stream",
     "text": [
      "Size of data: 691\n",
      "Training accuracy:      0.954\n",
      "Testing accuracy:      0.585\n",
      "CV mean:     0.6141\n",
      "CV Std:     0.0305\n",
      "Size of data: 1382\n",
      "Training accuracy:      0.869\n",
      "Testing accuracy:      0.616\n",
      "CV mean:     0.6041\n",
      "CV Std:     0.0315\n",
      "Size of data: 2073\n",
      "Training accuracy:      0.829\n",
      "Testing accuracy:      0.614\n",
      "CV mean:     0.6095\n",
      "CV Std:     0.0188\n",
      "Size of data: 2764\n",
      "Training accuracy:      0.796\n",
      "Testing accuracy:      0.624\n",
      "CV mean:     0.6161\n",
      "CV Std:     0.0296\n",
      "Size of data: 3455\n",
      "Training accuracy:      0.781\n",
      "Testing accuracy:      0.648\n",
      "CV mean:     0.6216\n",
      "CV Std:     0.0142\n"
     ]
    }
   ],
   "source": [
    "sizes = []\n",
    "cv_means = []\n",
    "train = [0.954, 0.869, 0.829, 0.796,  0.781]\n",
    "test = [0.585, 0.616, 0.614, 0.624, 0.648]\n",
    "for ii in [.2,.4,.6,.8,1]:\n",
    "    sample = match_all.sample(frac=ii)\n",
    "    print(\"Size of data: {}\".format(sample.shape[0]))\n",
    "    sizes.append(sample.shape[0])\n",
    "    y,cols,X_train, X_test, y_train, y_test,scaler = split(sample, True)\n",
    "    gbm,cvresult = run_classifier(X_train, X_test, y_train, y_test, params, cv=True)\n",
    "    cv_means.append(cvresult.mean())\n",
    "    print(\"CV mean: {:10.4f}\\nCV Std: {:10.4f}\".format(cvresult.mean(), cvresult.std()))"
   ]
  },
  {
   "cell_type": "code",
   "execution_count": 591,
   "metadata": {},
   "outputs": [
    {
     "data": {
      "image/png": "[encoded data removed]",
      "text/plain": [
       "<matplotlib.figure.Figure at 0x18a9a422828>"
      ]
     },
     "metadata": {},
     "output_type": "display_data"
    }
   ],
   "source": [
    "train = [0.954, 0.869, 0.829, 0.796,  0.781]\n",
    "test = [0.585, 0.616, 0.614, 0.624, 0.648]\n",
    "df = pd.DataFrame([train,test,cv_means,sizes]).T\n",
    "df.columns = [\"Training Accuracy\", \"Testing Accuracy\", \"CV Accuracy\", \"Total Sample Size\"]\n",
    "df.head()\n",
    "fig,ax = plt.subplots(1,1,figsize=(10,5))\n",
    "df.plot.line(x=\"Total Sample Size\",y=\"Training Accuracy\", ax=ax, color = \"blue\", style =  [\"-o\"])\n",
    "df.plot.line(x=\"Total Sample Size\",y=\"Testing Accuracy\", ax=ax, color = \"red\", style = [\"-o\"])\n",
    "plt.xlim((500,3500))\n",
    "plt.tight_layout()\n",
    "plt.savefig(\"Sample_size_vs_accuracy.pdf\")\n",
    "plt.show()"
   ]
  },
  {
   "cell_type": "code",
   "execution_count": 685,
   "metadata": {},
   "outputs": [
    {
     "data": {
      "text/html": [
       "<div>\n",
       "<style>\n",
       "    .dataframe thead tr:only-child th {\n",
       "        text-align: right;\n",
       "    }\n",
       "\n",
       "    .dataframe thead th {\n",
       "        text-align: left;\n",
       "    }\n",
       "\n",
       "    .dataframe tbody tr th {\n",
       "        vertical-align: top;\n",
       "    }\n",
       "</style>\n",
       "<table border=\"1\" class=\"dataframe\">\n",
       "  <thead>\n",
       "    <tr style=\"text-align: right;\">\n",
       "      <th></th>\n",
       "      <th>largest_class</th>\n",
       "      <th>test_acc</th>\n",
       "      <th>info_gain</th>\n",
       "      <th>num_matches</th>\n",
       "    </tr>\n",
       "  </thead>\n",
       "  <tbody>\n",
       "    <tr>\n",
       "      <th>LMS</th>\n",
       "      <td>0.575472</td>\n",
       "      <td>0.729858</td>\n",
       "      <td>0.154386</td>\n",
       "      <td>424</td>\n",
       "    </tr>\n",
       "    <tr>\n",
       "      <th>EULCS</th>\n",
       "      <td>0.542553</td>\n",
       "      <td>0.689362</td>\n",
       "      <td>0.146809</td>\n",
       "      <td>470</td>\n",
       "    </tr>\n",
       "    <tr>\n",
       "      <th>EUCS</th>\n",
       "      <td>0.541667</td>\n",
       "      <td>0.676056</td>\n",
       "      <td>0.134390</td>\n",
       "      <td>72</td>\n",
       "    </tr>\n",
       "    <tr>\n",
       "      <th>TCL</th>\n",
       "      <td>0.555838</td>\n",
       "      <td>0.684478</td>\n",
       "      <td>0.128641</td>\n",
       "      <td>394</td>\n",
       "    </tr>\n",
       "    <tr>\n",
       "      <th>NACS</th>\n",
       "      <td>0.621849</td>\n",
       "      <td>0.747899</td>\n",
       "      <td>0.126050</td>\n",
       "      <td>119</td>\n",
       "    </tr>\n",
       "    <tr>\n",
       "      <th>LCK</th>\n",
       "      <td>0.552486</td>\n",
       "      <td>0.674033</td>\n",
       "      <td>0.121547</td>\n",
       "      <td>724</td>\n",
       "    </tr>\n",
       "    <tr>\n",
       "      <th>EUPR</th>\n",
       "      <td>0.605263</td>\n",
       "      <td>0.710526</td>\n",
       "      <td>0.105263</td>\n",
       "      <td>38</td>\n",
       "    </tr>\n",
       "    <tr>\n",
       "      <th>NAAc</th>\n",
       "      <td>0.509804</td>\n",
       "      <td>0.613861</td>\n",
       "      <td>0.104057</td>\n",
       "      <td>102</td>\n",
       "    </tr>\n",
       "    <tr>\n",
       "      <th>NAPR</th>\n",
       "      <td>0.585366</td>\n",
       "      <td>0.682927</td>\n",
       "      <td>0.097561</td>\n",
       "      <td>41</td>\n",
       "    </tr>\n",
       "    <tr>\n",
       "      <th>RRAsia</th>\n",
       "      <td>0.523810</td>\n",
       "      <td>0.619048</td>\n",
       "      <td>0.095238</td>\n",
       "      <td>21</td>\n",
       "    </tr>\n",
       "    <tr>\n",
       "      <th>NALCS</th>\n",
       "      <td>0.564935</td>\n",
       "      <td>0.636364</td>\n",
       "      <td>0.071429</td>\n",
       "      <td>616</td>\n",
       "    </tr>\n",
       "    <tr>\n",
       "      <th>WC</th>\n",
       "      <td>0.567797</td>\n",
       "      <td>0.632479</td>\n",
       "      <td>0.064682</td>\n",
       "      <td>118</td>\n",
       "    </tr>\n",
       "    <tr>\n",
       "      <th>CBLoL</th>\n",
       "      <td>0.576037</td>\n",
       "      <td>0.626728</td>\n",
       "      <td>0.050691</td>\n",
       "      <td>217</td>\n",
       "    </tr>\n",
       "    <tr>\n",
       "      <th>MSI</th>\n",
       "      <td>0.653846</td>\n",
       "      <td>0.701299</td>\n",
       "      <td>0.047453</td>\n",
       "      <td>78</td>\n",
       "    </tr>\n",
       "    <tr>\n",
       "      <th>RRNAEU</th>\n",
       "      <td>0.571429</td>\n",
       "      <td>0.428571</td>\n",
       "      <td>-0.142857</td>\n",
       "      <td>21</td>\n",
       "    </tr>\n",
       "  </tbody>\n",
       "</table>\n",
       "</div>"
      ],
      "text/plain": [
       "        largest_class  test_acc  info_gain  num_matches\n",
       "LMS          0.575472  0.729858   0.154386          424\n",
       "EULCS        0.542553  0.689362   0.146809          470\n",
       "EUCS         0.541667  0.676056   0.134390           72\n",
       "TCL          0.555838  0.684478   0.128641          394\n",
       "NACS         0.621849  0.747899   0.126050          119\n",
       "LCK          0.552486  0.674033   0.121547          724\n",
       "EUPR         0.605263  0.710526   0.105263           38\n",
       "NAAc         0.509804  0.613861   0.104057          102\n",
       "NAPR         0.585366  0.682927   0.097561           41\n",
       "RRAsia       0.523810  0.619048   0.095238           21\n",
       "NALCS        0.564935  0.636364   0.071429          616\n",
       "WC           0.567797  0.632479   0.064682          118\n",
       "CBLoL        0.576037  0.626728   0.050691          217\n",
       "MSI          0.653846  0.701299   0.047453           78\n",
       "RRNAEU       0.571429  0.428571  -0.142857           21"
      ]
     },
     "metadata": {},
     "output_type": "display_data"
    }
   ],
   "source": [
    "leagues = []\n",
    "bwin = []\n",
    "accs = []\n",
    "num_matches = []\n",
    "for ii in match_all[\"league\"].unique():\n",
    "    leagues.append(ii)\n",
    "    m2 = match_all[match_all[\"league\"] == ii]\n",
    "    bwin.append(m2[\"blue_win\"].value_counts(normalize=True).iloc[0])\n",
    "    y2, _, data2, _, _ = split(m2, False)\n",
    "    pred = gbm.predict(data2)\n",
    "    acc = accuracy_score(y2, pred)\n",
    "    accs.append(acc)\n",
    "    num_matches.append(m2.shape[0])\n",
    "    #print(\"Accuracy for {}: {:10.4f}\\n\".format(ii,acc))\n",
    "    \n",
    "s = pd.Series(bwin, index=leagues)\n",
    "df = pd.DataFrame(s, columns = [\"largest_class\"])\n",
    "df[\"test_acc\"] = accs\n",
    "df[\"info_gain\"] = df[\"test_acc\"]- df[\"largest_class\"]\n",
    "df[\"num_matches\"] = num_matches\n",
    "display(df.sort_values(by=\"info_gain\", ascending=False))"
   ]
  },
  {
   "cell_type": "code",
   "execution_count": 86,
   "metadata": {},
   "outputs": [
    {
     "name": "stdout",
     "output_type": "stream",
     "text": [
      "0.563947633434\n"
     ]
    }
   ],
   "source": [
    "from sklearn.feature_selection import RFE\n",
    "from sklearn.linear_model import LogisticRegression\n",
    "from sklearn.ensemble import RandomForestClassifier\n",
    "clf = LogisticRegression()\n",
    "#clf = RandomForestClassifier()\n",
    "rfe = RFE(clf, 20, verbose = 0)\n",
    "rfe.fit(X_train, y_train)\n",
    "score = rfe.score(X_test, y_test)\n",
    "print(score)\n",
    "rfe.score(X_train, y_train)"
   ]
  },
  {
   "cell_type": "code",
   "execution_count": 90,
   "metadata": {
    "collapsed": true
   },
   "outputs": [],
   "source": [
    "fi1 = pd.DataFrame(gbm.feature_importances_,columns = [\"importance\"],index=cols).sort_values(by=\"importance\", ascending=False)\n",
    "#fi1.head(20)"
   ]
  },
  {
   "cell_type": "code",
   "execution_count": 686,
   "metadata": {},
   "outputs": [
    {
     "data": {
      "text/html": [
       "<div>\n",
       "<style>\n",
       "    .dataframe thead tr:only-child th {\n",
       "        text-align: right;\n",
       "    }\n",
       "\n",
       "    .dataframe thead th {\n",
       "        text-align: left;\n",
       "    }\n",
       "\n",
       "    .dataframe tbody tr th {\n",
       "        vertical-align: top;\n",
       "    }\n",
       "</style>\n",
       "<table border=\"1\" class=\"dataframe\">\n",
       "  <thead>\n",
       "    <tr style=\"text-align: right;\">\n",
       "      <th></th>\n",
       "      <th>importance</th>\n",
       "    </tr>\n",
       "  </thead>\n",
       "  <tbody>\n",
       "    <tr>\n",
       "      <th>blue_Support_gspd</th>\n",
       "      <td>0.020528</td>\n",
       "    </tr>\n",
       "    <tr>\n",
       "      <th>red_Middle_gdat15</th>\n",
       "      <td>0.017595</td>\n",
       "    </tr>\n",
       "    <tr>\n",
       "      <th>blue_ADC_gspd</th>\n",
       "      <td>0.017595</td>\n",
       "    </tr>\n",
       "    <tr>\n",
       "      <th>red_Jungle_fbaron</th>\n",
       "      <td>0.011730</td>\n",
       "    </tr>\n",
       "    <tr>\n",
       "      <th>blue_Support_monsterkillsenemyjungle</th>\n",
       "      <td>0.011730</td>\n",
       "    </tr>\n",
       "    <tr>\n",
       "      <th>red_Top_gspd</th>\n",
       "      <td>0.011730</td>\n",
       "    </tr>\n",
       "    <tr>\n",
       "      <th>blue_Support_dmgtochamps</th>\n",
       "      <td>0.011730</td>\n",
       "    </tr>\n",
       "    <tr>\n",
       "      <th>blue_Middle_gspd</th>\n",
       "      <td>0.011730</td>\n",
       "    </tr>\n",
       "    <tr>\n",
       "      <th>red_ADC_result</th>\n",
       "      <td>0.008798</td>\n",
       "    </tr>\n",
       "    <tr>\n",
       "      <th>blue_Support_xpdat10</th>\n",
       "      <td>0.008798</td>\n",
       "    </tr>\n",
       "  </tbody>\n",
       "</table>\n",
       "</div>"
      ],
      "text/plain": [
       "                                      importance\n",
       "blue_Support_gspd                       0.020528\n",
       "red_Middle_gdat15                       0.017595\n",
       "blue_ADC_gspd                           0.017595\n",
       "red_Jungle_fbaron                       0.011730\n",
       "blue_Support_monsterkillsenemyjungle    0.011730\n",
       "red_Top_gspd                            0.011730\n",
       "blue_Support_dmgtochamps                0.011730\n",
       "blue_Middle_gspd                        0.011730\n",
       "red_ADC_result                          0.008798\n",
       "blue_Support_xpdat10                    0.008798"
      ]
     },
     "execution_count": 686,
     "metadata": {},
     "output_type": "execute_result"
    }
   ],
   "source": [
    "fi2 = pd.DataFrame(gbm.feature_importances_,columns = [\"importance\"],index=cols).sort_values(by=\"importance\", ascending=False)\n",
    "fi2.head(10)"
   ]
  },
  {
   "cell_type": "code",
   "execution_count": 687,
   "metadata": {},
   "outputs": [
    {
     "data": {
      "image/png": "[encoded data removed]",
      "text/plain": [
       "<matplotlib.figure.Figure at 0x18a9c0b6cc0>"
      ]
     },
     "metadata": {},
     "output_type": "display_data"
    }
   ],
   "source": [
    "fig, ax =  plt.subplots(1,1,figsize=(12,5))\n",
    "xgb.plot_importance(gbm, ax= ax, max_num_features = 20)\n",
    "plt.tight_layout()\n",
    "plt.show()"
   ]
  },
  {
   "cell_type": "code",
   "execution_count": 688,
   "metadata": {},
   "outputs": [
    {
     "data": {
      "text/plain": [
       "1    0.57265\n",
       "0    0.42735\n",
       "Name: blue_win, dtype: float64"
      ]
     },
     "metadata": {},
     "output_type": "display_data"
    },
    {
     "name": "stdout",
     "output_type": "stream",
     "text": [
      "blue_Support_gspd\n",
      "red_Middle_gdat15\n",
      "blue_ADC_gspd\n"
     ]
    }
   ],
   "source": [
    "s = pd.Series(cols)\n",
    "s.index = s.index+1\n",
    "display(all_matches[\"blue_win\"].value_counts(normalize=True))\n",
    "print(s.iloc[561])\n",
    "print(s.iloc[380])\n",
    "print(s.iloc[433])"
   ]
  },
  {
   "cell_type": "code",
   "execution_count": 454,
   "metadata": {
    "collapsed": true
   },
   "outputs": [],
   "source": [
    "import requests\n",
    "import pandas as pd\n",
    "from bs4 import BeautifulSoup\n",
    "import sqlite3, os\n",
    "from scrape_utils import HTMLTableParser\n",
    "url = \"http://www.oddsportal.com/esports/south-korea/league-of-legends-champions-korea-2017/results/\"\n",
    "parser = HTMLTableParser()"
   ]
  },
  {
   "cell_type": "code",
   "execution_count": 462,
   "metadata": {},
   "outputs": [
    {
     "name": "stdout",
     "output_type": "stream",
     "text": [
      "['Hanabi' 'Moojin' 'Maple' 'Betty' 'SwordArT' 'Team' 'MMD' 'ShiauC'\n",
      " 'Morning']\n",
      "['Rascal' 'Peanut' 'Bdd' 'Pray' 'GorillA' 'Team' 'Khan' 'Cuzz']\n"
     ]
    }
   ],
   "source": []
  },
  {
   "cell_type": "code",
   "execution_count": 461,
   "metadata": {},
   "outputs": [
    {
     "data": {
      "text/plain": [
       "(24, 105)"
      ]
     },
     "execution_count": 461,
     "metadata": {},
     "output_type": "execute_result"
    }
   ],
   "source": [
    "current_data[\"Hanabi\"].shape"
   ]
  },
  {
   "cell_type": "markdown",
   "metadata": {},
   "source": [
    "### To Consider\n",
    "\n",
    "I'm getting max 60% accuracy on the match data for both 2017 and 2018 with a naive accuracy of 54% (blue side advantage)... so my model does 6% better than random. How to improve predictions?\n",
    "\n",
    "- Include league information (standardize this across years and make a union of all leagues) -> This really doesn't help\n",
    "- Is team composition predictive? - seems to be \"no\"\n",
    "- Try doing feature selection/ which features are predictive -> Using all features with xgboost seems to help\n",
    "- Different models for different leagues or test model on different leauges? -> xgboost works better than any other model\n",
    "- Am I limited by data - try subsampling matches_all and see if testing accuracy increases with sample size -> slight increase with sample size\n",
    "\n",
    "66% accuracy with 3 deep trees in xgboost\n",
    "- Use 2016 match data as well to get more data points -> use 2015 player stats with games played \n",
    "- Use xgboost on team comp/early game?\n",
    "- Use lifetime stats, season stats (last season + this season), and recent game stats (last 10 games)\n",
    "- New features: on a win streak, largest win streak this season/tournament, early game conversion to wine\n",
    "- Change tmatches to be the sum of all time scalings\n",
    "- Performance on best of fives?\n",
    "- Team synergy -> jungle top, jungle mid, jungle sup synergy\n",
    "\n",
    "\n",
    "historical odds:\n",
    "http://www.oddsportal.com/esports/china/league-of-legends-lol-pro-league/results/\n",
    "\n",
    "## OSHU DATA\n"
   ]
  },
  {
   "cell_type": "code",
   "execution_count": 30,
   "metadata": {},
   "outputs": [
    {
     "name": "stdout",
     "output_type": "stream",
     "text": [
      "['ALS', 'ALS', 'ALS', 'ALS', 'ALS', 'ALS', 'ALS', 'ALS', 'CTR', 'CTR', 'CTR', 'CTR']\n"
     ]
    },
    {
     "data": {
      "text/html": [
       "<div>\n",
       "<style>\n",
       "    .dataframe thead tr:only-child th {\n",
       "        text-align: right;\n",
       "    }\n",
       "\n",
       "    .dataframe thead th {\n",
       "        text-align: left;\n",
       "    }\n",
       "\n",
       "    .dataframe tbody tr th {\n",
       "        vertical-align: top;\n",
       "    }\n",
       "</style>\n",
       "<table border=\"1\" class=\"dataframe\">\n",
       "  <thead>\n",
       "    <tr style=\"text-align: right;\">\n",
       "      <th></th>\n",
       "      <th>CS0BUUiALS.n3</th>\n",
       "      <th>CS0LPKiALS.n1</th>\n",
       "      <th>CS6ZLDiALS.n1</th>\n",
       "      <th>CS7VCZiALS.n3</th>\n",
       "      <th>CS29iALS.C9n1.ISOT2RB4</th>\n",
       "      <th>CS29iALS.C9n1</th>\n",
       "      <th>CS52iALS.C9n6.ISOC3</th>\n",
       "      <th>CS52iALS.C9n6</th>\n",
       "      <th>CS0188iCTR.LBCn3</th>\n",
       "      <th>CS0465iCTR.LBCn2</th>\n",
       "      <th>CS0594iCTR.LBCn2</th>\n",
       "      <th>CS0702iCTR.LBCn1_diMNS_D18</th>\n",
       "    </tr>\n",
       "  </thead>\n",
       "  <tbody>\n",
       "    <tr>\n",
       "      <th>chr1_10010_11391</th>\n",
       "      <td>32</td>\n",
       "      <td>20</td>\n",
       "      <td>6</td>\n",
       "      <td>20</td>\n",
       "      <td>2</td>\n",
       "      <td>8</td>\n",
       "      <td>8</td>\n",
       "      <td>4</td>\n",
       "      <td>18</td>\n",
       "      <td>64</td>\n",
       "      <td>10</td>\n",
       "      <td>18</td>\n",
       "    </tr>\n",
       "    <tr>\n",
       "      <th>chr1_14309_14458</th>\n",
       "      <td>4</td>\n",
       "      <td>2</td>\n",
       "      <td>2</td>\n",
       "      <td>3</td>\n",
       "      <td>2</td>\n",
       "      <td>1</td>\n",
       "      <td>6</td>\n",
       "      <td>2</td>\n",
       "      <td>4</td>\n",
       "      <td>2</td>\n",
       "      <td>3</td>\n",
       "      <td>4</td>\n",
       "    </tr>\n",
       "    <tr>\n",
       "      <th>chr1_15560_15739</th>\n",
       "      <td>1</td>\n",
       "      <td>1</td>\n",
       "      <td>1</td>\n",
       "      <td>1</td>\n",
       "      <td>1</td>\n",
       "      <td>1</td>\n",
       "      <td>1</td>\n",
       "      <td>1</td>\n",
       "      <td>1</td>\n",
       "      <td>1</td>\n",
       "      <td>1</td>\n",
       "      <td>2</td>\n",
       "    </tr>\n",
       "    <tr>\n",
       "      <th>chr1_19983_20382</th>\n",
       "      <td>1</td>\n",
       "      <td>1</td>\n",
       "      <td>1</td>\n",
       "      <td>2</td>\n",
       "      <td>2</td>\n",
       "      <td>1</td>\n",
       "      <td>1</td>\n",
       "      <td>1</td>\n",
       "      <td>1</td>\n",
       "      <td>1</td>\n",
       "      <td>1</td>\n",
       "      <td>1</td>\n",
       "    </tr>\n",
       "    <tr>\n",
       "      <th>chr1_20397_20627</th>\n",
       "      <td>1</td>\n",
       "      <td>1</td>\n",
       "      <td>1</td>\n",
       "      <td>1</td>\n",
       "      <td>1</td>\n",
       "      <td>1</td>\n",
       "      <td>1</td>\n",
       "      <td>1</td>\n",
       "      <td>1</td>\n",
       "      <td>1</td>\n",
       "      <td>1</td>\n",
       "      <td>1</td>\n",
       "    </tr>\n",
       "  </tbody>\n",
       "</table>\n",
       "</div>"
      ],
      "text/plain": [
       "                  CS0BUUiALS.n3  CS0LPKiALS.n1  CS6ZLDiALS.n1  CS7VCZiALS.n3  \\\n",
       "chr1_10010_11391             32             20              6             20   \n",
       "chr1_14309_14458              4              2              2              3   \n",
       "chr1_15560_15739              1              1              1              1   \n",
       "chr1_19983_20382              1              1              1              2   \n",
       "chr1_20397_20627              1              1              1              1   \n",
       "\n",
       "                  CS29iALS.C9n1.ISOT2RB4  CS29iALS.C9n1  CS52iALS.C9n6.ISOC3  \\\n",
       "chr1_10010_11391                       2              8                    8   \n",
       "chr1_14309_14458                       2              1                    6   \n",
       "chr1_15560_15739                       1              1                    1   \n",
       "chr1_19983_20382                       2              1                    1   \n",
       "chr1_20397_20627                       1              1                    1   \n",
       "\n",
       "                  CS52iALS.C9n6  CS0188iCTR.LBCn3  CS0465iCTR.LBCn2  \\\n",
       "chr1_10010_11391              4                18                64   \n",
       "chr1_14309_14458              2                 4                 2   \n",
       "chr1_15560_15739              1                 1                 1   \n",
       "chr1_19983_20382              1                 1                 1   \n",
       "chr1_20397_20627              1                 1                 1   \n",
       "\n",
       "                  CS0594iCTR.LBCn2  CS0702iCTR.LBCn1_diMNS_D18  \n",
       "chr1_10010_11391                10                          18  \n",
       "chr1_14309_14458                 3                           4  \n",
       "chr1_15560_15739                 1                           2  \n",
       "chr1_19983_20382                 1                           1  \n",
       "chr1_20397_20627                 1                           1  "
      ]
     },
     "metadata": {},
     "output_type": "display_data"
    }
   ],
   "source": [
    "import os \n",
    "from IPython.display import display\n",
    "dir1=\"C:\\\\Users\\Brook Wassie\\Dropbox\\My Documents\\Fraenkel Lab\\Projects\\\\NeuroLincs\\AnswerALS\\\\12_lines\\d18_diMNs\"\n",
    "os.chdir(dir1)\n",
    "df = pd.read_csv(\"diffbind_matrix.txt\",sep=\"\\t\")\n",
    "#columns = [col.replace(\"DNA171220LH_\",\"\").replace(\"_merged\",\"\") for col in df.columns.values]\n",
    "#df.columns = columns\n",
    "#df = df.divide(sn.values,axis=1)\n",
    "df.columns = [name.replace(\"_diMNs_D18\",\"\") for name in df.columns.values]\n",
    "for_pca = np.log2(df.T)\n",
    "#labels = [s.split(\"_\")[0] for s in for_pca.index.values]\n",
    "labels = [\"CTR\" if \"CTR\" in name else \"ALS\" for name in df.columns.values]\n",
    "\n",
    "print(labels)\n",
    "#print(df.head())\n",
    "display(df.head())\n",
    "#display((df.divide(sn.values,axis=1)).head())"
   ]
  },
  {
   "cell_type": "code",
   "execution_count": 31,
   "metadata": {
    "collapsed": true
   },
   "outputs": [],
   "source": [
    "from sklearn.preprocessing import StandardScaler\n",
    "from sklearn.decomposition import PCA\n",
    "from sklearn.discriminant_analysis import LinearDiscriminantAnalysis\n",
    "import numpy as np\n",
    "import pandas as pd\n",
    "import matplotlib\n",
    "import matplotlib.pyplot as plt\n",
    "\n",
    "class scale_pca():\n",
    "    def __init__(self,data,labels, scale=True):\n",
    "        if scale:\n",
    "            scaler = StandardScaler()\n",
    "            self.scaled = scaler.fit_transform(data)\n",
    "        else:\n",
    "            self.scaled = data\n",
    "        self.data = data\n",
    "        self.labels = pd.Series(labels)\n",
    "        \n",
    "    def pca(self,save=False):\n",
    "        pca = PCA()\n",
    "        y = self.labels\n",
    "        pca_transform = pca.fit(self.scaled).transform(self.scaled)\n",
    "        dimensions = ['Dimension {}'.format(i) for i in range(1,len(pca.components_)+1)]\n",
    "        components = pd.DataFrame(np.round(pca.components_, 4), columns = self.data.keys())\n",
    "        components.index = dimensions\n",
    "        components = components[components.iloc[0,:].sort_values(ascending=False).index]\n",
    "        ratios = pca.explained_variance_ratio_.reshape(len(pca.components_), 1)\n",
    "        variance_ratios = pd.DataFrame(np.round(ratios, 4), columns = ['Explained Variance'])\n",
    "        variance_ratios.index = dimensions\n",
    "        df = pd.concat([variance_ratios, components],axis=1)\n",
    "        print(\"\\nContributions to PCA components:\")\n",
    "        display(df.head())\n",
    "        target_names = pd.unique(y)\n",
    "        print(target_names)\n",
    "        plt.figure(figsize=(10,5))\n",
    "        all_colors = ['blue', 'red','green','brown','yellow','cyan','black']\n",
    "        colors = all_colors[:target_names.shape[0]]\n",
    "        lw = 2\n",
    "        for color, i in zip(colors, target_names):\n",
    "            plt.scatter(pca_transform[y == i, 0], pca_transform[y == i, 1], color=color, alpha=.8, lw=lw,\n",
    "                        label=i)\n",
    "        plt.legend(loc='best', shadow=False, scatterpoints=1)\n",
    "        for label, x, y in zip(self.data.index.values, pca_transform[:, 0], pca_transform[:, 1]):\n",
    "            plt.annotate(\n",
    "            label,\n",
    "            xy=(x, y), xytext=(-20, -20),\n",
    "            textcoords='offset points', va='bottom')\n",
    "\n",
    "        plt.title('PCA plot')\n",
    "        plt.xlabel(\"Component 1: {}\".format(np.round(ratios,4)[0][0]))\n",
    "        plt.ylabel(\"Component 2: {}\".format(np.round(ratios,4)[1][0]))\n",
    "        plt.tight_layout()\n",
    "        if save:\n",
    "            plt.savefig(\"PCA.pdf\")\n",
    "            plt.show()\n",
    "        else:\n",
    "            plt.show()\n",
    "        return pca_transform, target_names"
   ]
  },
  {
   "cell_type": "code",
   "execution_count": 32,
   "metadata": {},
   "outputs": [
    {
     "name": "stdout",
     "output_type": "stream",
     "text": [
      "\n",
      "Contributions to PCA components:\n"
     ]
    },
    {
     "data": {
      "text/html": [
       "<div>\n",
       "<style>\n",
       "    .dataframe thead tr:only-child th {\n",
       "        text-align: right;\n",
       "    }\n",
       "\n",
       "    .dataframe thead th {\n",
       "        text-align: left;\n",
       "    }\n",
       "\n",
       "    .dataframe tbody tr th {\n",
       "        vertical-align: top;\n",
       "    }\n",
       "</style>\n",
       "<table border=\"1\" class=\"dataframe\">\n",
       "  <thead>\n",
       "    <tr style=\"text-align: right;\">\n",
       "      <th></th>\n",
       "      <th>Explained Variance</th>\n",
       "      <th>chr4_7835191_7835511</th>\n",
       "      <th>chr10_40678187_40678821</th>\n",
       "      <th>chr16_16232182_16233661</th>\n",
       "      <th>chr22_23907163_23908040</th>\n",
       "      <th>chr6_GL000256v2_alt_1029581_1029767</th>\n",
       "      <th>chr1_124639226_124639580</th>\n",
       "      <th>chr1_KI270892v1_alt_58347_59353</th>\n",
       "      <th>chr1_123290721_123290931</th>\n",
       "      <th>chr5_49292900_49293128</th>\n",
       "      <th>...</th>\n",
       "      <th>chr9_124536636_124537346</th>\n",
       "      <th>chr6_47247041_47248014</th>\n",
       "      <th>chr5_94313749_94314065</th>\n",
       "      <th>chr1_37267025_37267323</th>\n",
       "      <th>chr4_76443295_76443808</th>\n",
       "      <th>chr1_102334090_102334377</th>\n",
       "      <th>chr2_117057006_117057286</th>\n",
       "      <th>chr3_195195250_195197058</th>\n",
       "      <th>chr1_235971587_235972277</th>\n",
       "      <th>chr10_63407165_63407450</th>\n",
       "    </tr>\n",
       "  </thead>\n",
       "  <tbody>\n",
       "    <tr>\n",
       "      <th>Dimension 1</th>\n",
       "      <td>0.3685</td>\n",
       "      <td>0.0024</td>\n",
       "      <td>0.0022</td>\n",
       "      <td>0.0021</td>\n",
       "      <td>0.0021</td>\n",
       "      <td>0.0021</td>\n",
       "      <td>0.0021</td>\n",
       "      <td>0.0021</td>\n",
       "      <td>0.0021</td>\n",
       "      <td>0.0020</td>\n",
       "      <td>...</td>\n",
       "      <td>-0.0032</td>\n",
       "      <td>-0.0032</td>\n",
       "      <td>-0.0032</td>\n",
       "      <td>-0.0032</td>\n",
       "      <td>-0.0032</td>\n",
       "      <td>-0.0032</td>\n",
       "      <td>-0.0032</td>\n",
       "      <td>-0.0032</td>\n",
       "      <td>-0.0032</td>\n",
       "      <td>-0.0032</td>\n",
       "    </tr>\n",
       "    <tr>\n",
       "      <th>Dimension 2</th>\n",
       "      <td>0.2125</td>\n",
       "      <td>-0.0002</td>\n",
       "      <td>-0.0009</td>\n",
       "      <td>0.0006</td>\n",
       "      <td>0.0006</td>\n",
       "      <td>-0.0005</td>\n",
       "      <td>0.0002</td>\n",
       "      <td>0.0002</td>\n",
       "      <td>0.0002</td>\n",
       "      <td>0.0007</td>\n",
       "      <td>...</td>\n",
       "      <td>0.0001</td>\n",
       "      <td>0.0001</td>\n",
       "      <td>-0.0001</td>\n",
       "      <td>0.0004</td>\n",
       "      <td>0.0000</td>\n",
       "      <td>-0.0002</td>\n",
       "      <td>0.0003</td>\n",
       "      <td>-0.0002</td>\n",
       "      <td>-0.0003</td>\n",
       "      <td>-0.0006</td>\n",
       "    </tr>\n",
       "    <tr>\n",
       "      <th>Dimension 3</th>\n",
       "      <td>0.1345</td>\n",
       "      <td>-0.0006</td>\n",
       "      <td>-0.0002</td>\n",
       "      <td>0.0008</td>\n",
       "      <td>-0.0001</td>\n",
       "      <td>0.0019</td>\n",
       "      <td>0.0009</td>\n",
       "      <td>0.0009</td>\n",
       "      <td>0.0009</td>\n",
       "      <td>-0.0012</td>\n",
       "      <td>...</td>\n",
       "      <td>-0.0000</td>\n",
       "      <td>-0.0003</td>\n",
       "      <td>0.0006</td>\n",
       "      <td>-0.0003</td>\n",
       "      <td>0.0007</td>\n",
       "      <td>0.0003</td>\n",
       "      <td>-0.0002</td>\n",
       "      <td>-0.0003</td>\n",
       "      <td>-0.0006</td>\n",
       "      <td>0.0003</td>\n",
       "    </tr>\n",
       "    <tr>\n",
       "      <th>Dimension 4</th>\n",
       "      <td>0.0634</td>\n",
       "      <td>-0.0008</td>\n",
       "      <td>0.0020</td>\n",
       "      <td>-0.0042</td>\n",
       "      <td>-0.0016</td>\n",
       "      <td>-0.0034</td>\n",
       "      <td>-0.0045</td>\n",
       "      <td>-0.0045</td>\n",
       "      <td>-0.0045</td>\n",
       "      <td>0.0015</td>\n",
       "      <td>...</td>\n",
       "      <td>0.0001</td>\n",
       "      <td>-0.0007</td>\n",
       "      <td>0.0001</td>\n",
       "      <td>0.0009</td>\n",
       "      <td>-0.0011</td>\n",
       "      <td>-0.0011</td>\n",
       "      <td>-0.0000</td>\n",
       "      <td>-0.0000</td>\n",
       "      <td>-0.0001</td>\n",
       "      <td>-0.0008</td>\n",
       "    </tr>\n",
       "    <tr>\n",
       "      <th>Dimension 5</th>\n",
       "      <td>0.0457</td>\n",
       "      <td>-0.0005</td>\n",
       "      <td>0.0045</td>\n",
       "      <td>-0.0016</td>\n",
       "      <td>-0.0015</td>\n",
       "      <td>0.0007</td>\n",
       "      <td>0.0001</td>\n",
       "      <td>0.0001</td>\n",
       "      <td>0.0001</td>\n",
       "      <td>-0.0044</td>\n",
       "      <td>...</td>\n",
       "      <td>0.0012</td>\n",
       "      <td>0.0004</td>\n",
       "      <td>0.0006</td>\n",
       "      <td>0.0009</td>\n",
       "      <td>-0.0003</td>\n",
       "      <td>-0.0002</td>\n",
       "      <td>-0.0002</td>\n",
       "      <td>0.0011</td>\n",
       "      <td>-0.0007</td>\n",
       "      <td>0.0002</td>\n",
       "    </tr>\n",
       "  </tbody>\n",
       "</table>\n",
       "<p>5 rows × 269641 columns</p>\n",
       "</div>"
      ],
      "text/plain": [
       "             Explained Variance  chr4_7835191_7835511  \\\n",
       "Dimension 1              0.3685                0.0024   \n",
       "Dimension 2              0.2125               -0.0002   \n",
       "Dimension 3              0.1345               -0.0006   \n",
       "Dimension 4              0.0634               -0.0008   \n",
       "Dimension 5              0.0457               -0.0005   \n",
       "\n",
       "             chr10_40678187_40678821  chr16_16232182_16233661  \\\n",
       "Dimension 1                   0.0022                   0.0021   \n",
       "Dimension 2                  -0.0009                   0.0006   \n",
       "Dimension 3                  -0.0002                   0.0008   \n",
       "Dimension 4                   0.0020                  -0.0042   \n",
       "Dimension 5                   0.0045                  -0.0016   \n",
       "\n",
       "             chr22_23907163_23908040  chr6_GL000256v2_alt_1029581_1029767  \\\n",
       "Dimension 1                   0.0021                               0.0021   \n",
       "Dimension 2                   0.0006                              -0.0005   \n",
       "Dimension 3                  -0.0001                               0.0019   \n",
       "Dimension 4                  -0.0016                              -0.0034   \n",
       "Dimension 5                  -0.0015                               0.0007   \n",
       "\n",
       "             chr1_124639226_124639580  chr1_KI270892v1_alt_58347_59353  \\\n",
       "Dimension 1                    0.0021                           0.0021   \n",
       "Dimension 2                    0.0002                           0.0002   \n",
       "Dimension 3                    0.0009                           0.0009   \n",
       "Dimension 4                   -0.0045                          -0.0045   \n",
       "Dimension 5                    0.0001                           0.0001   \n",
       "\n",
       "             chr1_123290721_123290931  chr5_49292900_49293128  \\\n",
       "Dimension 1                    0.0021                  0.0020   \n",
       "Dimension 2                    0.0002                  0.0007   \n",
       "Dimension 3                    0.0009                 -0.0012   \n",
       "Dimension 4                   -0.0045                  0.0015   \n",
       "Dimension 5                    0.0001                 -0.0044   \n",
       "\n",
       "                      ...             chr9_124536636_124537346  \\\n",
       "Dimension 1           ...                              -0.0032   \n",
       "Dimension 2           ...                               0.0001   \n",
       "Dimension 3           ...                              -0.0000   \n",
       "Dimension 4           ...                               0.0001   \n",
       "Dimension 5           ...                               0.0012   \n",
       "\n",
       "             chr6_47247041_47248014  chr5_94313749_94314065  \\\n",
       "Dimension 1                 -0.0032                 -0.0032   \n",
       "Dimension 2                  0.0001                 -0.0001   \n",
       "Dimension 3                 -0.0003                  0.0006   \n",
       "Dimension 4                 -0.0007                  0.0001   \n",
       "Dimension 5                  0.0004                  0.0006   \n",
       "\n",
       "             chr1_37267025_37267323  chr4_76443295_76443808  \\\n",
       "Dimension 1                 -0.0032                 -0.0032   \n",
       "Dimension 2                  0.0004                  0.0000   \n",
       "Dimension 3                 -0.0003                  0.0007   \n",
       "Dimension 4                  0.0009                 -0.0011   \n",
       "Dimension 5                  0.0009                 -0.0003   \n",
       "\n",
       "             chr1_102334090_102334377  chr2_117057006_117057286  \\\n",
       "Dimension 1                   -0.0032                   -0.0032   \n",
       "Dimension 2                   -0.0002                    0.0003   \n",
       "Dimension 3                    0.0003                   -0.0002   \n",
       "Dimension 4                   -0.0011                   -0.0000   \n",
       "Dimension 5                   -0.0002                   -0.0002   \n",
       "\n",
       "             chr3_195195250_195197058  chr1_235971587_235972277  \\\n",
       "Dimension 1                   -0.0032                   -0.0032   \n",
       "Dimension 2                   -0.0002                   -0.0003   \n",
       "Dimension 3                   -0.0003                   -0.0006   \n",
       "Dimension 4                   -0.0000                   -0.0001   \n",
       "Dimension 5                    0.0011                   -0.0007   \n",
       "\n",
       "             chr10_63407165_63407450  \n",
       "Dimension 1                  -0.0032  \n",
       "Dimension 2                  -0.0006  \n",
       "Dimension 3                   0.0003  \n",
       "Dimension 4                  -0.0008  \n",
       "Dimension 5                   0.0002  \n",
       "\n",
       "[5 rows x 269641 columns]"
      ]
     },
     "metadata": {},
     "output_type": "display_data"
    },
    {
     "name": "stdout",
     "output_type": "stream",
     "text": [
      "['ALS' 'CTR']\n"
     ]
    },
    {
     "data": {
      "image/png": "[encoded data removed]",
      "text/plain": [
       "<matplotlib.figure.Figure at 0x1d78153c6d8>"
      ]
     },
     "metadata": {},
     "output_type": "display_data"
    }
   ],
   "source": [
    "import sys, importlib\n",
    "sys.path.append('.')\n",
    "sys.path.append(\"C:\\\\Users\\Brook Wassie\\Dropbox\\ssh stuff\\\\notebooks\")\n",
    "import pca\n",
    "importlib.reload(pca)\n",
    "\n",
    "pca = scale_pca(for_pca,labels, True)\n",
    "y = labels\n",
    "pca_transform, target_names = pca.pca(True)"
   ]
  },
  {
   "cell_type": "code",
   "execution_count": null,
   "metadata": {
    "collapsed": true
   },
   "outputs": [],
   "source": []
  }
 ],
 "metadata": {
  "kernelspec": {
   "display_name": "Python 3",
   "language": "python",
   "name": "python3"
  },
  "language_info": {
   "codemirror_mode": {
    "name": "ipython",
    "version": 3
   },
   "file_extension": ".py",
   "mimetype": "text/x-python",
   "name": "python",
   "nbconvert_exporter": "python",
   "pygments_lexer": "ipython3",
   "version": "3.6.3"
  }
 },
 "nbformat": 4,
 "nbformat_minor": 2
}
